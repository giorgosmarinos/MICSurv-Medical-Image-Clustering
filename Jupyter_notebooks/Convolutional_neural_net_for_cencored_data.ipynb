{
 "cells": [
  {
   "cell_type": "code",
   "execution_count": 296,
   "metadata": {},
   "outputs": [
    {
     "name": "stdout",
     "output_type": "stream",
     "text": [
      "['D:\\\\DSS_Visual_Analytics_XAI\\\\Code\\\\MMD-critic-master\\\\data_medical_images\\\\tiff_images\\\\ID_0001_AGE_0069_CONTRAST_1_CT.tif', 'D:\\\\DSS_Visual_Analytics_XAI\\\\Code\\\\MMD-critic-master\\\\data_medical_images\\\\tiff_images\\\\ID_0002_AGE_0074_CONTRAST_1_CT.tif', 'D:\\\\DSS_Visual_Analytics_XAI\\\\Code\\\\MMD-critic-master\\\\data_medical_images\\\\tiff_images\\\\ID_0003_AGE_0075_CONTRAST_1_CT.tif', 'D:\\\\DSS_Visual_Analytics_XAI\\\\Code\\\\MMD-critic-master\\\\data_medical_images\\\\tiff_images\\\\ID_0004_AGE_0056_CONTRAST_1_CT.tif', 'D:\\\\DSS_Visual_Analytics_XAI\\\\Code\\\\MMD-critic-master\\\\data_medical_images\\\\tiff_images\\\\ID_0005_AGE_0048_CONTRAST_1_CT.tif', 'D:\\\\DSS_Visual_Analytics_XAI\\\\Code\\\\MMD-critic-master\\\\data_medical_images\\\\tiff_images\\\\ID_0006_AGE_0075_CONTRAST_1_CT.tif', 'D:\\\\DSS_Visual_Analytics_XAI\\\\Code\\\\MMD-critic-master\\\\data_medical_images\\\\tiff_images\\\\ID_0007_AGE_0061_CONTRAST_1_CT.tif', 'D:\\\\DSS_Visual_Analytics_XAI\\\\Code\\\\MMD-critic-master\\\\data_medical_images\\\\tiff_images\\\\ID_0008_AGE_0051_CONTRAST_1_CT.tif', 'D:\\\\DSS_Visual_Analytics_XAI\\\\Code\\\\MMD-critic-master\\\\data_medical_images\\\\tiff_images\\\\ID_0009_AGE_0048_CONTRAST_1_CT.tif', 'D:\\\\DSS_Visual_Analytics_XAI\\\\Code\\\\MMD-critic-master\\\\data_medical_images\\\\tiff_images\\\\ID_0010_AGE_0060_CONTRAST_1_CT.tif', 'D:\\\\DSS_Visual_Analytics_XAI\\\\Code\\\\MMD-critic-master\\\\data_medical_images\\\\tiff_images\\\\ID_0011_AGE_0061_CONTRAST_1_CT.tif', 'D:\\\\DSS_Visual_Analytics_XAI\\\\Code\\\\MMD-critic-master\\\\data_medical_images\\\\tiff_images\\\\ID_0012_AGE_0061_CONTRAST_1_CT.tif', 'D:\\\\DSS_Visual_Analytics_XAI\\\\Code\\\\MMD-critic-master\\\\data_medical_images\\\\tiff_images\\\\ID_0013_AGE_0060_CONTRAST_1_CT.tif', 'D:\\\\DSS_Visual_Analytics_XAI\\\\Code\\\\MMD-critic-master\\\\data_medical_images\\\\tiff_images\\\\ID_0014_AGE_0071_CONTRAST_1_CT.tif', 'D:\\\\DSS_Visual_Analytics_XAI\\\\Code\\\\MMD-critic-master\\\\data_medical_images\\\\tiff_images\\\\ID_0015_AGE_0061_CONTRAST_1_CT.tif', 'D:\\\\DSS_Visual_Analytics_XAI\\\\Code\\\\MMD-critic-master\\\\data_medical_images\\\\tiff_images\\\\ID_0016_AGE_0063_CONTRAST_1_CT.tif', 'D:\\\\DSS_Visual_Analytics_XAI\\\\Code\\\\MMD-critic-master\\\\data_medical_images\\\\tiff_images\\\\ID_0017_AGE_0060_CONTRAST_1_CT.tif', 'D:\\\\DSS_Visual_Analytics_XAI\\\\Code\\\\MMD-critic-master\\\\data_medical_images\\\\tiff_images\\\\ID_0018_AGE_0074_CONTRAST_1_CT.tif', 'D:\\\\DSS_Visual_Analytics_XAI\\\\Code\\\\MMD-critic-master\\\\data_medical_images\\\\tiff_images\\\\ID_0019_AGE_0070_CONTRAST_1_CT.tif', 'D:\\\\DSS_Visual_Analytics_XAI\\\\Code\\\\MMD-critic-master\\\\data_medical_images\\\\tiff_images\\\\ID_0020_AGE_0066_CONTRAST_1_CT.tif', 'D:\\\\DSS_Visual_Analytics_XAI\\\\Code\\\\MMD-critic-master\\\\data_medical_images\\\\tiff_images\\\\ID_0021_AGE_0067_CONTRAST_1_CT.tif', 'D:\\\\DSS_Visual_Analytics_XAI\\\\Code\\\\MMD-critic-master\\\\data_medical_images\\\\tiff_images\\\\ID_0022_AGE_0074_CONTRAST_1_CT.tif', 'D:\\\\DSS_Visual_Analytics_XAI\\\\Code\\\\MMD-critic-master\\\\data_medical_images\\\\tiff_images\\\\ID_0023_AGE_0061_CONTRAST_1_CT.tif', 'D:\\\\DSS_Visual_Analytics_XAI\\\\Code\\\\MMD-critic-master\\\\data_medical_images\\\\tiff_images\\\\ID_0024_AGE_0060_CONTRAST_1_CT.tif', 'D:\\\\DSS_Visual_Analytics_XAI\\\\Code\\\\MMD-critic-master\\\\data_medical_images\\\\tiff_images\\\\ID_0025_AGE_0074_CONTRAST_1_CT.tif', 'D:\\\\DSS_Visual_Analytics_XAI\\\\Code\\\\MMD-critic-master\\\\data_medical_images\\\\tiff_images\\\\ID_0026_AGE_0070_CONTRAST_1_CT.tif', 'D:\\\\DSS_Visual_Analytics_XAI\\\\Code\\\\MMD-critic-master\\\\data_medical_images\\\\tiff_images\\\\ID_0027_AGE_0064_CONTRAST_1_CT.tif', 'D:\\\\DSS_Visual_Analytics_XAI\\\\Code\\\\MMD-critic-master\\\\data_medical_images\\\\tiff_images\\\\ID_0028_AGE_0074_CONTRAST_1_CT.tif', 'D:\\\\DSS_Visual_Analytics_XAI\\\\Code\\\\MMD-critic-master\\\\data_medical_images\\\\tiff_images\\\\ID_0029_AGE_0078_CONTRAST_1_CT.tif', 'D:\\\\DSS_Visual_Analytics_XAI\\\\Code\\\\MMD-critic-master\\\\data_medical_images\\\\tiff_images\\\\ID_0030_AGE_0076_CONTRAST_1_CT.tif', 'D:\\\\DSS_Visual_Analytics_XAI\\\\Code\\\\MMD-critic-master\\\\data_medical_images\\\\tiff_images\\\\ID_0031_AGE_0039_CONTRAST_1_CT.tif', 'D:\\\\DSS_Visual_Analytics_XAI\\\\Code\\\\MMD-critic-master\\\\data_medical_images\\\\tiff_images\\\\ID_0032_AGE_0061_CONTRAST_1_CT.tif', 'D:\\\\DSS_Visual_Analytics_XAI\\\\Code\\\\MMD-critic-master\\\\data_medical_images\\\\tiff_images\\\\ID_0033_AGE_0071_CONTRAST_1_CT.tif', 'D:\\\\DSS_Visual_Analytics_XAI\\\\Code\\\\MMD-critic-master\\\\data_medical_images\\\\tiff_images\\\\ID_0034_AGE_0061_CONTRAST_1_CT.tif', 'D:\\\\DSS_Visual_Analytics_XAI\\\\Code\\\\MMD-critic-master\\\\data_medical_images\\\\tiff_images\\\\ID_0035_AGE_0059_CONTRAST_1_CT.tif', 'D:\\\\DSS_Visual_Analytics_XAI\\\\Code\\\\MMD-critic-master\\\\data_medical_images\\\\tiff_images\\\\ID_0036_AGE_0074_CONTRAST_1_CT.tif', 'D:\\\\DSS_Visual_Analytics_XAI\\\\Code\\\\MMD-critic-master\\\\data_medical_images\\\\tiff_images\\\\ID_0037_AGE_0074_CONTRAST_1_CT.tif', 'D:\\\\DSS_Visual_Analytics_XAI\\\\Code\\\\MMD-critic-master\\\\data_medical_images\\\\tiff_images\\\\ID_0038_AGE_0071_CONTRAST_1_CT.tif', 'D:\\\\DSS_Visual_Analytics_XAI\\\\Code\\\\MMD-critic-master\\\\data_medical_images\\\\tiff_images\\\\ID_0039_AGE_0074_CONTRAST_1_CT.tif', 'D:\\\\DSS_Visual_Analytics_XAI\\\\Code\\\\MMD-critic-master\\\\data_medical_images\\\\tiff_images\\\\ID_0040_AGE_0069_CONTRAST_1_CT.tif', 'D:\\\\DSS_Visual_Analytics_XAI\\\\Code\\\\MMD-critic-master\\\\data_medical_images\\\\tiff_images\\\\ID_0041_AGE_0045_CONTRAST_1_CT.tif', 'D:\\\\DSS_Visual_Analytics_XAI\\\\Code\\\\MMD-critic-master\\\\data_medical_images\\\\tiff_images\\\\ID_0042_AGE_0071_CONTRAST_1_CT.tif', 'D:\\\\DSS_Visual_Analytics_XAI\\\\Code\\\\MMD-critic-master\\\\data_medical_images\\\\tiff_images\\\\ID_0043_AGE_0069_CONTRAST_1_CT.tif', 'D:\\\\DSS_Visual_Analytics_XAI\\\\Code\\\\MMD-critic-master\\\\data_medical_images\\\\tiff_images\\\\ID_0044_AGE_0072_CONTRAST_1_CT.tif', 'D:\\\\DSS_Visual_Analytics_XAI\\\\Code\\\\MMD-critic-master\\\\data_medical_images\\\\tiff_images\\\\ID_0045_AGE_0074_CONTRAST_1_CT.tif', 'D:\\\\DSS_Visual_Analytics_XAI\\\\Code\\\\MMD-critic-master\\\\data_medical_images\\\\tiff_images\\\\ID_0046_AGE_0072_CONTRAST_1_CT.tif', 'D:\\\\DSS_Visual_Analytics_XAI\\\\Code\\\\MMD-critic-master\\\\data_medical_images\\\\tiff_images\\\\ID_0047_AGE_0069_CONTRAST_1_CT.tif', 'D:\\\\DSS_Visual_Analytics_XAI\\\\Code\\\\MMD-critic-master\\\\data_medical_images\\\\tiff_images\\\\ID_0048_AGE_0077_CONTRAST_1_CT.tif', 'D:\\\\DSS_Visual_Analytics_XAI\\\\Code\\\\MMD-critic-master\\\\data_medical_images\\\\tiff_images\\\\ID_0049_AGE_0061_CONTRAST_1_CT.tif', 'D:\\\\DSS_Visual_Analytics_XAI\\\\Code\\\\MMD-critic-master\\\\data_medical_images\\\\tiff_images\\\\ID_0050_AGE_0074_CONTRAST_0_CT.tif', 'D:\\\\DSS_Visual_Analytics_XAI\\\\Code\\\\MMD-critic-master\\\\data_medical_images\\\\tiff_images\\\\ID_0051_AGE_0063_CONTRAST_0_CT.tif', 'D:\\\\DSS_Visual_Analytics_XAI\\\\Code\\\\MMD-critic-master\\\\data_medical_images\\\\tiff_images\\\\ID_0052_AGE_0072_CONTRAST_0_CT.tif', 'D:\\\\DSS_Visual_Analytics_XAI\\\\Code\\\\MMD-critic-master\\\\data_medical_images\\\\tiff_images\\\\ID_0053_AGE_0073_CONTRAST_0_CT.tif', 'D:\\\\DSS_Visual_Analytics_XAI\\\\Code\\\\MMD-critic-master\\\\data_medical_images\\\\tiff_images\\\\ID_0054_AGE_0082_CONTRAST_0_CT.tif', 'D:\\\\DSS_Visual_Analytics_XAI\\\\Code\\\\MMD-critic-master\\\\data_medical_images\\\\tiff_images\\\\ID_0055_AGE_0071_CONTRAST_0_CT.tif', 'D:\\\\DSS_Visual_Analytics_XAI\\\\Code\\\\MMD-critic-master\\\\data_medical_images\\\\tiff_images\\\\ID_0056_AGE_0083_CONTRAST_0_CT.tif', 'D:\\\\DSS_Visual_Analytics_XAI\\\\Code\\\\MMD-critic-master\\\\data_medical_images\\\\tiff_images\\\\ID_0057_AGE_0049_CONTRAST_0_CT.tif', 'D:\\\\DSS_Visual_Analytics_XAI\\\\Code\\\\MMD-critic-master\\\\data_medical_images\\\\tiff_images\\\\ID_0058_AGE_0082_CONTRAST_0_CT.tif', 'D:\\\\DSS_Visual_Analytics_XAI\\\\Code\\\\MMD-critic-master\\\\data_medical_images\\\\tiff_images\\\\ID_0059_AGE_0074_CONTRAST_0_CT.tif', 'D:\\\\DSS_Visual_Analytics_XAI\\\\Code\\\\MMD-critic-master\\\\data_medical_images\\\\tiff_images\\\\ID_0060_AGE_0080_CONTRAST_0_CT.tif', 'D:\\\\DSS_Visual_Analytics_XAI\\\\Code\\\\MMD-critic-master\\\\data_medical_images\\\\tiff_images\\\\ID_0061_AGE_0074_CONTRAST_0_CT.tif', 'D:\\\\DSS_Visual_Analytics_XAI\\\\Code\\\\MMD-critic-master\\\\data_medical_images\\\\tiff_images\\\\ID_0062_AGE_0067_CONTRAST_0_CT.tif', 'D:\\\\DSS_Visual_Analytics_XAI\\\\Code\\\\MMD-critic-master\\\\data_medical_images\\\\tiff_images\\\\ID_0063_AGE_0073_CONTRAST_0_CT.tif', 'D:\\\\DSS_Visual_Analytics_XAI\\\\Code\\\\MMD-critic-master\\\\data_medical_images\\\\tiff_images\\\\ID_0064_AGE_0058_CONTRAST_0_CT.tif', 'D:\\\\DSS_Visual_Analytics_XAI\\\\Code\\\\MMD-critic-master\\\\data_medical_images\\\\tiff_images\\\\ID_0065_AGE_0082_CONTRAST_0_CT.tif', 'D:\\\\DSS_Visual_Analytics_XAI\\\\Code\\\\MMD-critic-master\\\\data_medical_images\\\\tiff_images\\\\ID_0066_AGE_0082_CONTRAST_0_CT.tif', 'D:\\\\DSS_Visual_Analytics_XAI\\\\Code\\\\MMD-critic-master\\\\data_medical_images\\\\tiff_images\\\\ID_0067_AGE_0060_CONTRAST_0_CT.tif', 'D:\\\\DSS_Visual_Analytics_XAI\\\\Code\\\\MMD-critic-master\\\\data_medical_images\\\\tiff_images\\\\ID_0068_AGE_0072_CONTRAST_0_CT.tif', 'D:\\\\DSS_Visual_Analytics_XAI\\\\Code\\\\MMD-critic-master\\\\data_medical_images\\\\tiff_images\\\\ID_0069_AGE_0074_CONTRAST_0_CT.tif', 'D:\\\\DSS_Visual_Analytics_XAI\\\\Code\\\\MMD-critic-master\\\\data_medical_images\\\\tiff_images\\\\ID_0070_AGE_0074_CONTRAST_0_CT.tif', 'D:\\\\DSS_Visual_Analytics_XAI\\\\Code\\\\MMD-critic-master\\\\data_medical_images\\\\tiff_images\\\\ID_0071_AGE_0065_CONTRAST_0_CT.tif', 'D:\\\\DSS_Visual_Analytics_XAI\\\\Code\\\\MMD-critic-master\\\\data_medical_images\\\\tiff_images\\\\ID_0072_AGE_0060_CONTRAST_0_CT.tif', 'D:\\\\DSS_Visual_Analytics_XAI\\\\Code\\\\MMD-critic-master\\\\data_medical_images\\\\tiff_images\\\\ID_0073_AGE_0074_CONTRAST_0_CT.tif', 'D:\\\\DSS_Visual_Analytics_XAI\\\\Code\\\\MMD-critic-master\\\\data_medical_images\\\\tiff_images\\\\ID_0074_AGE_0074_CONTRAST_0_CT.tif', 'D:\\\\DSS_Visual_Analytics_XAI\\\\Code\\\\MMD-critic-master\\\\data_medical_images\\\\tiff_images\\\\ID_0075_AGE_0080_CONTRAST_0_CT.tif', 'D:\\\\DSS_Visual_Analytics_XAI\\\\Code\\\\MMD-critic-master\\\\data_medical_images\\\\tiff_images\\\\ID_0076_AGE_0068_CONTRAST_0_CT.tif', 'D:\\\\DSS_Visual_Analytics_XAI\\\\Code\\\\MMD-critic-master\\\\data_medical_images\\\\tiff_images\\\\ID_0077_AGE_0074_CONTRAST_0_CT.tif', 'D:\\\\DSS_Visual_Analytics_XAI\\\\Code\\\\MMD-critic-master\\\\data_medical_images\\\\tiff_images\\\\ID_0078_AGE_0066_CONTRAST_0_CT.tif', 'D:\\\\DSS_Visual_Analytics_XAI\\\\Code\\\\MMD-critic-master\\\\data_medical_images\\\\tiff_images\\\\ID_0079_AGE_0071_CONTRAST_0_CT.tif', 'D:\\\\DSS_Visual_Analytics_XAI\\\\Code\\\\MMD-critic-master\\\\data_medical_images\\\\tiff_images\\\\ID_0080_AGE_0070_CONTRAST_0_CT.tif', 'D:\\\\DSS_Visual_Analytics_XAI\\\\Code\\\\MMD-critic-master\\\\data_medical_images\\\\tiff_images\\\\ID_0081_AGE_0058_CONTRAST_0_CT.tif', 'D:\\\\DSS_Visual_Analytics_XAI\\\\Code\\\\MMD-critic-master\\\\data_medical_images\\\\tiff_images\\\\ID_0082_AGE_0047_CONTRAST_0_CT.tif', 'D:\\\\DSS_Visual_Analytics_XAI\\\\Code\\\\MMD-critic-master\\\\data_medical_images\\\\tiff_images\\\\ID_0083_AGE_0082_CONTRAST_0_CT.tif', 'D:\\\\DSS_Visual_Analytics_XAI\\\\Code\\\\MMD-critic-master\\\\data_medical_images\\\\tiff_images\\\\ID_0084_AGE_0067_CONTRAST_0_CT.tif', 'D:\\\\DSS_Visual_Analytics_XAI\\\\Code\\\\MMD-critic-master\\\\data_medical_images\\\\tiff_images\\\\ID_0085_AGE_0067_CONTRAST_0_CT.tif', 'D:\\\\DSS_Visual_Analytics_XAI\\\\Code\\\\MMD-critic-master\\\\data_medical_images\\\\tiff_images\\\\ID_0086_AGE_0073_CONTRAST_0_CT.tif', 'D:\\\\DSS_Visual_Analytics_XAI\\\\Code\\\\MMD-critic-master\\\\data_medical_images\\\\tiff_images\\\\ID_0087_AGE_0044_CONTRAST_0_CT.tif', 'D:\\\\DSS_Visual_Analytics_XAI\\\\Code\\\\MMD-critic-master\\\\data_medical_images\\\\tiff_images\\\\ID_0088_AGE_0067_CONTRAST_0_CT.tif', 'D:\\\\DSS_Visual_Analytics_XAI\\\\Code\\\\MMD-critic-master\\\\data_medical_images\\\\tiff_images\\\\ID_0089_AGE_0071_CONTRAST_0_CT.tif', 'D:\\\\DSS_Visual_Analytics_XAI\\\\Code\\\\MMD-critic-master\\\\data_medical_images\\\\tiff_images\\\\ID_0090_AGE_0067_CONTRAST_0_CT.tif', 'D:\\\\DSS_Visual_Analytics_XAI\\\\Code\\\\MMD-critic-master\\\\data_medical_images\\\\tiff_images\\\\ID_0091_AGE_0072_CONTRAST_0_CT.tif', 'D:\\\\DSS_Visual_Analytics_XAI\\\\Code\\\\MMD-critic-master\\\\data_medical_images\\\\tiff_images\\\\ID_0092_AGE_0072_CONTRAST_0_CT.tif', 'D:\\\\DSS_Visual_Analytics_XAI\\\\Code\\\\MMD-critic-master\\\\data_medical_images\\\\tiff_images\\\\ID_0093_AGE_0067_CONTRAST_0_CT.tif', 'D:\\\\DSS_Visual_Analytics_XAI\\\\Code\\\\MMD-critic-master\\\\data_medical_images\\\\tiff_images\\\\ID_0094_AGE_0052_CONTRAST_0_CT.tif', 'D:\\\\DSS_Visual_Analytics_XAI\\\\Code\\\\MMD-critic-master\\\\data_medical_images\\\\tiff_images\\\\ID_0095_AGE_0071_CONTRAST_0_CT.tif', 'D:\\\\DSS_Visual_Analytics_XAI\\\\Code\\\\MMD-critic-master\\\\data_medical_images\\\\tiff_images\\\\ID_0096_AGE_0083_CONTRAST_0_CT.tif', 'D:\\\\DSS_Visual_Analytics_XAI\\\\Code\\\\MMD-critic-master\\\\data_medical_images\\\\tiff_images\\\\ID_0097_AGE_0060_CONTRAST_0_CT.tif', 'D:\\\\DSS_Visual_Analytics_XAI\\\\Code\\\\MMD-critic-master\\\\data_medical_images\\\\tiff_images\\\\ID_0098_AGE_0061_CONTRAST_0_CT.tif', 'D:\\\\DSS_Visual_Analytics_XAI\\\\Code\\\\MMD-critic-master\\\\data_medical_images\\\\tiff_images\\\\ID_0099_AGE_0061_CONTRAST_0_CT.tif']\n",
      "(512, 512)\n",
      "(256, 256)\n"
     ]
    },
    {
     "data": {
      "image/png": "[encoded data removed]",
      "text/plain": [
       "<Figure size 432x288 with 1 Axes>"
      ]
     },
     "metadata": {
      "needs_background": "light"
     },
     "output_type": "display_data"
    }
   ],
   "source": [
    "import numpy as np \n",
    "import pandas as pd \n",
    "import matplotlib.pyplot as plt \n",
    "import os\n",
    "from glob import glob\n",
    "from skimage.io import imread\n",
    "import re \n",
    "from sklearn.model_selection import train_test_split\n",
    "from sklearn.metrics.pairwise import rbf_kernel\n",
    "\n",
    "def load_data():\n",
    "    #read images from the tif files\n",
    "    BASE_IMG_PATH='D:\\\\DSS_Visual_Analytics_XAI\\\\Code\\\\MMD-critic-master\\\\data_medical_images\\\\'\n",
    "    all_images_list = glob(os.path.join(BASE_IMG_PATH,'tiff_images','*.tif'))\n",
    "    all_images_list[:5]\n",
    "    print(all_images_list)\n",
    "\n",
    "    #print(os.listdir(BASE_IMG_PATH))\n",
    "    #print(os.path.join(BASE_IMG_PATH,'tiff_images','*.tif'))\n",
    "\n",
    "    print(imread(all_images_list[0]).shape)\n",
    "    np.expand_dims(imread(all_images_list[0])[::4,::4],0).shape\n",
    "    jimread = lambda x: np.expand_dims(imread(x)[::2,::2],0)\n",
    "    test_image = jimread(all_images_list[1])\n",
    "    print(test_image[0].shape)\n",
    "    plt.imshow(test_image[0])\n",
    "\n",
    "    return all_images_list\n",
    "\n",
    "all_images_list = load_data()"
   ]
  },
  {
   "cell_type": "code",
   "execution_count": 297,
   "metadata": {},
   "outputs": [
    {
     "data": {
      "text/plain": [
       "99"
      ]
     },
     "execution_count": 297,
     "metadata": {},
     "output_type": "execute_result"
    }
   ],
   "source": [
    "len(all_images_list)"
   ]
  },
  {
   "cell_type": "markdown",
   "metadata": {},
   "source": [
    "TRAIN TEST SPLIT"
   ]
  },
  {
   "cell_type": "code",
   "execution_count": null,
   "metadata": {},
   "outputs": [],
   "source": [
    "from numpy import expand_dims\n",
    "from keras.preprocessing.image import load_img\n",
    "from keras.preprocessing.image import img_to_array\n",
    "from keras.preprocessing.image import ImageDataGenerator\n",
    "from matplotlib import pyplot\n",
    "\n",
    "\n",
    "def label_extraction(all_images_list):\n",
    "    check_contrast = re.compile(r'ID_([\\d]+)_AGE_[\\d]+_CONTRAST_([\\d]+)_CT')\n",
    "    label = []\n",
    "    id_list = []\n",
    "    for image in all_images_list:\n",
    "        id_list.append(check_contrast.findall(image)[0][0])\n",
    "        label.append(check_contrast.findall(image)[0][1])\n",
    "\n",
    "    return pd.DataFrame(label,id_list)\n",
    "\n",
    "label_list = label_extraction(all_images_list)\n",
    "\n",
    "#print(label_list.head())\n",
    "\n",
    "\n",
    "def data_augmentation():\n",
    "\n",
    "    images = np.stack([jimread(i) for i in all_images_list],0) \n",
    "\n",
    "    X_new = []\n",
    "    for i in range(len(images)):\n",
    "        # load the image\n",
    "        img = images[i].reshape(images[i].shape[1],images[i].shape[2] )\n",
    "        # convert to numpy array\n",
    "        data = img_to_array(img)\n",
    "        # expand dimension to one sample\n",
    "        samples = expand_dims(data, 0)\n",
    "        # create image data augmentation generator\n",
    "        datagen = ImageDataGenerator(rotation_range=90)\n",
    "        # prepare iterator\n",
    "        it = datagen.flow(samples, batch_size=1)\n",
    "        # generate samples and plot\n",
    "        for i in range(9):\n",
    "            # define subplot\n",
    "            pyplot.subplot(330 + 1 + i)\n",
    "            # generate batch of images\n",
    "            batch = it.next()\n",
    "            # convert to unsigned integers for viewing\n",
    "            image = batch[0].astype('uint8')\n",
    "            X_new.append(image)\n",
    "        \n",
    "    return np.asarray(X_new)\n",
    "\n",
    "def label_augmentation():       \n",
    "    y = label_list.values\n",
    "\n",
    "    y_new = []\n",
    "    for i in y:\n",
    "        for j in range(9):\n",
    "            y_new.append(i)\n",
    "\n",
    "    return np.asarray(y_new)\n",
    "\n",
    "X = data_augmentation()\n",
    "y = label_augmentation()\n",
    "#print(len(X))\n",
    "#print(len(y))\n",
    "# Split train and test sets\n",
    "X_train, X_test, y_train, y_test = train_test_split(X, y, test_size=int(X.shape[0]*0.80), random_state=0)"
   ]
  },
  {
   "cell_type": "code",
   "execution_count": 299,
   "metadata": {},
   "outputs": [
    {
     "data": {
      "text/plain": [
       "((179, 256, 256, 1), (179, 1), (712, 256, 256, 1), (712, 1))"
      ]
     },
     "execution_count": 299,
     "metadata": {},
     "output_type": "execute_result"
    }
   ],
   "source": [
    "X_train.shape, y_train.shape, X_test.shape, y_test.shape"
   ]
  },
  {
   "cell_type": "code",
   "execution_count": 300,
   "metadata": {},
   "outputs": [
    {
     "data": {
      "text/plain": [
       "array([['0'],\n",
       "       ['0'],\n",
       "       ['1'],\n",
       "       ['1'],\n",
       "       ['1'],\n",
       "       ['1'],\n",
       "       ['0'],\n",
       "       ['1'],\n",
       "       ['0'],\n",
       "       ['1'],\n",
       "       ['0'],\n",
       "       ['1'],\n",
       "       ['1'],\n",
       "       ['0'],\n",
       "       ['1'],\n",
       "       ['1'],\n",
       "       ['1'],\n",
       "       ['1'],\n",
       "       ['0'],\n",
       "       ['0'],\n",
       "       ['1'],\n",
       "       ['0'],\n",
       "       ['0'],\n",
       "       ['1'],\n",
       "       ['0'],\n",
       "       ['1'],\n",
       "       ['0'],\n",
       "       ['1'],\n",
       "       ['0'],\n",
       "       ['0'],\n",
       "       ['1'],\n",
       "       ['0'],\n",
       "       ['1'],\n",
       "       ['1'],\n",
       "       ['0'],\n",
       "       ['0'],\n",
       "       ['0'],\n",
       "       ['0'],\n",
       "       ['0'],\n",
       "       ['1'],\n",
       "       ['0'],\n",
       "       ['0'],\n",
       "       ['0'],\n",
       "       ['0'],\n",
       "       ['1'],\n",
       "       ['1'],\n",
       "       ['0'],\n",
       "       ['1'],\n",
       "       ['0'],\n",
       "       ['1'],\n",
       "       ['0'],\n",
       "       ['1'],\n",
       "       ['0'],\n",
       "       ['0'],\n",
       "       ['0'],\n",
       "       ['0'],\n",
       "       ['1'],\n",
       "       ['0'],\n",
       "       ['0'],\n",
       "       ['1'],\n",
       "       ['1'],\n",
       "       ['0'],\n",
       "       ['0'],\n",
       "       ['0'],\n",
       "       ['1'],\n",
       "       ['0'],\n",
       "       ['0'],\n",
       "       ['0'],\n",
       "       ['0'],\n",
       "       ['0'],\n",
       "       ['1'],\n",
       "       ['0'],\n",
       "       ['1'],\n",
       "       ['1'],\n",
       "       ['0'],\n",
       "       ['0'],\n",
       "       ['1'],\n",
       "       ['1'],\n",
       "       ['1'],\n",
       "       ['1'],\n",
       "       ['0'],\n",
       "       ['0'],\n",
       "       ['1'],\n",
       "       ['0'],\n",
       "       ['1'],\n",
       "       ['0'],\n",
       "       ['1'],\n",
       "       ['0'],\n",
       "       ['0'],\n",
       "       ['0'],\n",
       "       ['0'],\n",
       "       ['0'],\n",
       "       ['1'],\n",
       "       ['0'],\n",
       "       ['0'],\n",
       "       ['0'],\n",
       "       ['1'],\n",
       "       ['1'],\n",
       "       ['0'],\n",
       "       ['0'],\n",
       "       ['0'],\n",
       "       ['1'],\n",
       "       ['0'],\n",
       "       ['1'],\n",
       "       ['1'],\n",
       "       ['1'],\n",
       "       ['1'],\n",
       "       ['0'],\n",
       "       ['0'],\n",
       "       ['0'],\n",
       "       ['0'],\n",
       "       ['1'],\n",
       "       ['0'],\n",
       "       ['0'],\n",
       "       ['1'],\n",
       "       ['0'],\n",
       "       ['1'],\n",
       "       ['0'],\n",
       "       ['0'],\n",
       "       ['1'],\n",
       "       ['0'],\n",
       "       ['1'],\n",
       "       ['0'],\n",
       "       ['0'],\n",
       "       ['1'],\n",
       "       ['0'],\n",
       "       ['0'],\n",
       "       ['1'],\n",
       "       ['1'],\n",
       "       ['1'],\n",
       "       ['0'],\n",
       "       ['0'],\n",
       "       ['0'],\n",
       "       ['1'],\n",
       "       ['0'],\n",
       "       ['1'],\n",
       "       ['1'],\n",
       "       ['1'],\n",
       "       ['1'],\n",
       "       ['0'],\n",
       "       ['1'],\n",
       "       ['1'],\n",
       "       ['0'],\n",
       "       ['0'],\n",
       "       ['0'],\n",
       "       ['1'],\n",
       "       ['1'],\n",
       "       ['1'],\n",
       "       ['1'],\n",
       "       ['1'],\n",
       "       ['1'],\n",
       "       ['1'],\n",
       "       ['0'],\n",
       "       ['1'],\n",
       "       ['1'],\n",
       "       ['0'],\n",
       "       ['1'],\n",
       "       ['0'],\n",
       "       ['1'],\n",
       "       ['0'],\n",
       "       ['1'],\n",
       "       ['0'],\n",
       "       ['0'],\n",
       "       ['1'],\n",
       "       ['1'],\n",
       "       ['1'],\n",
       "       ['0'],\n",
       "       ['1'],\n",
       "       ['1'],\n",
       "       ['0'],\n",
       "       ['1'],\n",
       "       ['1'],\n",
       "       ['1'],\n",
       "       ['0'],\n",
       "       ['0'],\n",
       "       ['0'],\n",
       "       ['1'],\n",
       "       ['0'],\n",
       "       ['1'],\n",
       "       ['1'],\n",
       "       ['1'],\n",
       "       ['0'],\n",
       "       ['1'],\n",
       "       ['0'],\n",
       "       ['1'],\n",
       "       ['0'],\n",
       "       ['1'],\n",
       "       ['0'],\n",
       "       ['1'],\n",
       "       ['0'],\n",
       "       ['1'],\n",
       "       ['0'],\n",
       "       ['0'],\n",
       "       ['0'],\n",
       "       ['1'],\n",
       "       ['1'],\n",
       "       ['1'],\n",
       "       ['1'],\n",
       "       ['0'],\n",
       "       ['0'],\n",
       "       ['1'],\n",
       "       ['1'],\n",
       "       ['0'],\n",
       "       ['1'],\n",
       "       ['1'],\n",
       "       ['1'],\n",
       "       ['1'],\n",
       "       ['0'],\n",
       "       ['1'],\n",
       "       ['0'],\n",
       "       ['1'],\n",
       "       ['0'],\n",
       "       ['1'],\n",
       "       ['0'],\n",
       "       ['1'],\n",
       "       ['0'],\n",
       "       ['1'],\n",
       "       ['0'],\n",
       "       ['1'],\n",
       "       ['1'],\n",
       "       ['1'],\n",
       "       ['0'],\n",
       "       ['1'],\n",
       "       ['1'],\n",
       "       ['1'],\n",
       "       ['1'],\n",
       "       ['1'],\n",
       "       ['0'],\n",
       "       ['1'],\n",
       "       ['1'],\n",
       "       ['0'],\n",
       "       ['0'],\n",
       "       ['1'],\n",
       "       ['0'],\n",
       "       ['0'],\n",
       "       ['1'],\n",
       "       ['1'],\n",
       "       ['0'],\n",
       "       ['1'],\n",
       "       ['1'],\n",
       "       ['0'],\n",
       "       ['0'],\n",
       "       ['1'],\n",
       "       ['1'],\n",
       "       ['0'],\n",
       "       ['1'],\n",
       "       ['0'],\n",
       "       ['0'],\n",
       "       ['1'],\n",
       "       ['0'],\n",
       "       ['0'],\n",
       "       ['1'],\n",
       "       ['0'],\n",
       "       ['0'],\n",
       "       ['1'],\n",
       "       ['1'],\n",
       "       ['0'],\n",
       "       ['1'],\n",
       "       ['1'],\n",
       "       ['1'],\n",
       "       ['1'],\n",
       "       ['1'],\n",
       "       ['0'],\n",
       "       ['1'],\n",
       "       ['0'],\n",
       "       ['0'],\n",
       "       ['0'],\n",
       "       ['1'],\n",
       "       ['0'],\n",
       "       ['1'],\n",
       "       ['1'],\n",
       "       ['1'],\n",
       "       ['0'],\n",
       "       ['0'],\n",
       "       ['1'],\n",
       "       ['1'],\n",
       "       ['1'],\n",
       "       ['1'],\n",
       "       ['0'],\n",
       "       ['1'],\n",
       "       ['0'],\n",
       "       ['1'],\n",
       "       ['1'],\n",
       "       ['0'],\n",
       "       ['0'],\n",
       "       ['0'],\n",
       "       ['0'],\n",
       "       ['0'],\n",
       "       ['0'],\n",
       "       ['0'],\n",
       "       ['1'],\n",
       "       ['0'],\n",
       "       ['0'],\n",
       "       ['1'],\n",
       "       ['1'],\n",
       "       ['1'],\n",
       "       ['1'],\n",
       "       ['1'],\n",
       "       ['1'],\n",
       "       ['0'],\n",
       "       ['0'],\n",
       "       ['0'],\n",
       "       ['0'],\n",
       "       ['1'],\n",
       "       ['0'],\n",
       "       ['1'],\n",
       "       ['0'],\n",
       "       ['0'],\n",
       "       ['0'],\n",
       "       ['0'],\n",
       "       ['1'],\n",
       "       ['0'],\n",
       "       ['0'],\n",
       "       ['1'],\n",
       "       ['1'],\n",
       "       ['0'],\n",
       "       ['1'],\n",
       "       ['1'],\n",
       "       ['1'],\n",
       "       ['0'],\n",
       "       ['0'],\n",
       "       ['1'],\n",
       "       ['1'],\n",
       "       ['0'],\n",
       "       ['1'],\n",
       "       ['1'],\n",
       "       ['1'],\n",
       "       ['0'],\n",
       "       ['0'],\n",
       "       ['0'],\n",
       "       ['1'],\n",
       "       ['0'],\n",
       "       ['1'],\n",
       "       ['1'],\n",
       "       ['1'],\n",
       "       ['0'],\n",
       "       ['0'],\n",
       "       ['0'],\n",
       "       ['1'],\n",
       "       ['0'],\n",
       "       ['0'],\n",
       "       ['1'],\n",
       "       ['1'],\n",
       "       ['0'],\n",
       "       ['0'],\n",
       "       ['0'],\n",
       "       ['1'],\n",
       "       ['0'],\n",
       "       ['1'],\n",
       "       ['0'],\n",
       "       ['1'],\n",
       "       ['1'],\n",
       "       ['1'],\n",
       "       ['1'],\n",
       "       ['0'],\n",
       "       ['0'],\n",
       "       ['0'],\n",
       "       ['1'],\n",
       "       ['0'],\n",
       "       ['0'],\n",
       "       ['1'],\n",
       "       ['1'],\n",
       "       ['0'],\n",
       "       ['0'],\n",
       "       ['0'],\n",
       "       ['0'],\n",
       "       ['0'],\n",
       "       ['1'],\n",
       "       ['0'],\n",
       "       ['1'],\n",
       "       ['0'],\n",
       "       ['0'],\n",
       "       ['1'],\n",
       "       ['1'],\n",
       "       ['1'],\n",
       "       ['1'],\n",
       "       ['0'],\n",
       "       ['0'],\n",
       "       ['0'],\n",
       "       ['1'],\n",
       "       ['1'],\n",
       "       ['0'],\n",
       "       ['1'],\n",
       "       ['1'],\n",
       "       ['1'],\n",
       "       ['1'],\n",
       "       ['1'],\n",
       "       ['0'],\n",
       "       ['1'],\n",
       "       ['1'],\n",
       "       ['0'],\n",
       "       ['1'],\n",
       "       ['0'],\n",
       "       ['1'],\n",
       "       ['1'],\n",
       "       ['0'],\n",
       "       ['1'],\n",
       "       ['0'],\n",
       "       ['1'],\n",
       "       ['1'],\n",
       "       ['0'],\n",
       "       ['1'],\n",
       "       ['1'],\n",
       "       ['1'],\n",
       "       ['1'],\n",
       "       ['1'],\n",
       "       ['0'],\n",
       "       ['1'],\n",
       "       ['1'],\n",
       "       ['1'],\n",
       "       ['1'],\n",
       "       ['1'],\n",
       "       ['1'],\n",
       "       ['0'],\n",
       "       ['0'],\n",
       "       ['0'],\n",
       "       ['1'],\n",
       "       ['0'],\n",
       "       ['0'],\n",
       "       ['1'],\n",
       "       ['0'],\n",
       "       ['0'],\n",
       "       ['0'],\n",
       "       ['1'],\n",
       "       ['1'],\n",
       "       ['1'],\n",
       "       ['1'],\n",
       "       ['0'],\n",
       "       ['1'],\n",
       "       ['1'],\n",
       "       ['1'],\n",
       "       ['1'],\n",
       "       ['0'],\n",
       "       ['0'],\n",
       "       ['0'],\n",
       "       ['1'],\n",
       "       ['0'],\n",
       "       ['1'],\n",
       "       ['0'],\n",
       "       ['1'],\n",
       "       ['0'],\n",
       "       ['1'],\n",
       "       ['0'],\n",
       "       ['1'],\n",
       "       ['0'],\n",
       "       ['1']], dtype=object)"
      ]
     },
     "execution_count": 300,
     "metadata": {},
     "output_type": "execute_result"
    }
   ],
   "source": [
    "y_test[:446]"
   ]
  },
  {
   "cell_type": "code",
   "execution_count": 301,
   "metadata": {},
   "outputs": [
    {
     "name": "stdout",
     "output_type": "stream",
     "text": [
      "Using Tensorflow: 2.7.0\n"
     ]
    }
   ],
   "source": [
    "from typing import Any, Dict, Iterable, Sequence, Tuple, Optional, Union\n",
    "import numpy as np\n",
    "import matplotlib.pyplot as plt\n",
    "import pandas as pd\n",
    "from pathlib import Path\n",
    "from sksurv.nonparametric import kaplan_meier_estimator\n",
    "from sksurv.metrics import concordance_index_censored\n",
    "import tensorflow as tf\n",
    "from tensorflow.keras.datasets import mnist\n",
    "\n",
    "print(\"Using Tensorflow:\", tf.__version__)"
   ]
  },
  {
   "cell_type": "code",
   "execution_count": 302,
   "metadata": {},
   "outputs": [
    {
     "name": "stderr",
     "output_type": "stream",
     "text": [
      "d:\\DSS_Visual_Analytics_XAI\\Code\\Explainability\\explainability\\lib\\site-packages\\ipykernel_launcher.py:3: DeprecationWarning: distutils Version classes are deprecated. Use packaging.version instead.\n",
      "  This is separate from the ipykernel package so we can avoid doing imports until\n"
     ]
    }
   ],
   "source": [
    "from distutils.version import LooseVersion\n",
    "\n",
    "assert LooseVersion(tf.__version__) >= LooseVersion(\"2.0.0\"), \\\n",
    "    \"This notebook requires TensorFlow 2.0 or above.\""
   ]
  },
  {
   "cell_type": "code",
   "execution_count": 303,
   "metadata": {},
   "outputs": [
    {
     "name": "stdout",
     "output_type": "stream",
     "text": [
      "(179, 1)\n",
      "(712, 1)\n"
     ]
    }
   ],
   "source": [
    "print(y_train.shape)\n",
    "print(y_test.shape)"
   ]
  },
  {
   "cell_type": "code",
   "execution_count": 304,
   "metadata": {},
   "outputs": [],
   "source": [
    "y = np.concatenate((y_train, y_test))"
   ]
  },
  {
   "cell_type": "code",
   "execution_count": 305,
   "metadata": {
    "scrolled": true
   },
   "outputs": [],
   "source": [
    "y.reshape(1,-1)[0]\n",
    "y = y.reshape(1,-1)[0].astype(int)\n"
   ]
  },
  {
   "cell_type": "code",
   "execution_count": 306,
   "metadata": {},
   "outputs": [
    {
     "data": {
      "text/plain": [
       "array([0, 0, 0, 0, 0, 1, 1, 1, 0, 1, 0, 1, 0, 1, 1, 1, 1, 1, 1, 0, 0, 1,\n",
       "       1, 0, 0, 0, 1, 1, 0, 0, 1, 0, 1, 1, 1, 1, 1, 1, 1, 1, 0, 1, 1, 1,\n",
       "       0, 1, 1, 0, 0, 1, 0, 0, 1, 1, 1, 0, 1, 0, 0, 1, 0, 1, 1, 1, 0, 0,\n",
       "       1, 1, 0, 1, 0, 1, 1, 0, 0, 1, 0, 1, 0, 1, 0, 0, 1, 0, 1, 1, 1, 0,\n",
       "       1, 0, 1, 1, 1, 0, 0, 0, 1, 1, 1, 1, 0, 1, 1, 1, 1, 1, 0, 0, 1, 0,\n",
       "       1, 1, 1, 0, 0, 0, 1, 0, 1, 0, 1, 1, 0, 0, 0, 1, 1, 0, 0, 0, 0, 0,\n",
       "       1, 1, 1, 1, 0, 0, 0, 1, 1, 0, 0, 1, 0, 0, 0, 1, 0, 1, 0, 0, 0, 0,\n",
       "       0, 1, 1, 0, 0, 0, 1, 1, 0, 0, 1, 0, 0, 0, 1, 0, 1, 1, 0, 0, 0, 1,\n",
       "       0, 0, 0, 0, 0, 1, 1, 1, 1, 0, 1, 0, 1, 0, 1, 1, 0, 1, 1, 1, 1, 0,\n",
       "       0, 1, 0, 0, 1, 0, 1, 0, 1, 0, 0, 1, 0, 1, 1, 0, 0, 0, 0, 0, 1, 0,\n",
       "       0, 0, 0, 1, 1, 0, 1, 0, 1, 0, 1, 0, 0, 0, 0, 1, 0, 0, 1, 1, 0, 0,\n",
       "       0, 1, 0, 0, 0, 0, 0, 1, 0, 1, 1, 0, 0, 1, 1, 1, 1, 0, 0, 1, 0, 1,\n",
       "       0, 1, 0, 0, 0, 0, 0, 1, 0, 0, 0, 1, 1, 0, 0, 0, 1, 0, 1, 1, 1, 1,\n",
       "       0, 0, 0, 0, 1, 0, 0, 1, 0, 1, 0, 0, 1, 0, 1, 0, 0, 1, 0, 0, 1, 1,\n",
       "       1, 0, 0, 0, 1, 0, 1, 1, 1, 1, 0, 1, 1, 0, 0, 0, 1, 1, 1, 1, 1, 1,\n",
       "       1, 0, 1, 1, 0, 1, 0, 1, 0, 1, 0, 0, 1, 1, 1, 0, 1, 1, 0, 1, 1, 1,\n",
       "       0, 0, 0, 1, 0, 1, 1, 1, 0, 1, 0, 1, 0, 1, 0, 1, 0, 1, 0, 0, 0, 1,\n",
       "       1, 1, 1, 0, 0, 1, 1, 0, 1, 1, 1, 1, 0, 1, 0, 1, 0, 1, 0, 1, 0, 1,\n",
       "       0, 1, 1, 1, 0, 1, 1, 1, 1, 1, 0, 1, 1, 0, 0, 1, 0, 0, 1, 1, 0, 1,\n",
       "       1, 0, 0, 1, 1, 0, 1, 0, 0, 1, 0, 0, 1, 0, 0, 1, 1, 0, 1, 1, 1, 1,\n",
       "       1, 0, 1, 0, 0, 0, 1, 0, 1, 1, 1, 0, 0, 1, 1, 1, 1, 0, 1, 0, 1, 1,\n",
       "       0, 0, 0, 0, 0, 0, 0, 1, 0, 0, 1, 1, 1, 1, 1, 1, 0, 0, 0, 0, 1, 0,\n",
       "       1, 0, 0, 0, 0, 1, 0, 0, 1, 1, 0, 1, 1, 1, 0, 0, 1, 1, 0, 1, 1, 1,\n",
       "       0, 0, 0, 1, 0, 1, 1, 1, 0, 0, 0, 1, 0, 0, 1, 1, 0, 0, 0, 1, 0, 1,\n",
       "       0, 1, 1, 1, 1, 0, 0, 0, 1, 0, 0, 1, 1, 0, 0, 0, 0, 0, 1, 0, 1, 0,\n",
       "       0, 1, 1, 1, 1, 0, 0, 0, 1, 1, 0, 1, 1, 1, 1, 1, 0, 1, 1, 0, 1, 0,\n",
       "       1, 1, 0, 1, 0, 1, 1, 0, 1, 1, 1, 1, 1, 0, 1, 1, 1, 1, 1, 1, 0, 0,\n",
       "       0, 1, 0, 0, 1, 0, 0, 0, 1, 1, 1, 1, 0, 1, 1, 1, 1, 0, 0, 0, 1, 0,\n",
       "       1, 0, 1, 0, 1, 0, 1, 0, 1, 1, 0, 0, 0, 1, 0, 0, 1, 1, 0, 0, 0, 0,\n",
       "       1, 1, 0, 1, 1, 0, 0, 1, 0, 0, 0, 0, 1, 1, 1, 1, 0, 1, 0, 1, 0, 0,\n",
       "       1, 0, 0, 0, 0, 1, 1, 0, 1, 1, 0, 1, 1, 1, 0, 0, 0, 0, 0, 1, 1, 1,\n",
       "       0, 0, 0, 1, 1, 0, 0, 1, 0, 0, 1, 1, 0, 0, 1, 1, 0, 0, 0, 0, 1, 0,\n",
       "       1, 1, 1, 0, 0, 0, 1, 1, 0, 0, 0, 0, 0, 0, 0, 1, 0, 0, 1, 1, 1, 0,\n",
       "       0, 0, 0, 0, 0, 1, 0, 0, 1, 0, 1, 1, 0, 1, 0, 0, 0, 0, 0, 0, 0, 0,\n",
       "       0, 1, 1, 0, 1, 1, 1, 0, 1, 0, 0, 0, 1, 0, 0, 0, 0, 1, 1, 0, 1, 1,\n",
       "       1, 0, 0, 0, 1, 0, 0, 0, 1, 0, 1, 1, 1, 0, 0, 1, 0, 0, 0, 0, 1, 0,\n",
       "       1, 1, 0, 0, 1, 1, 0, 1, 1, 1, 1, 0, 0, 0, 1, 1, 1, 1, 0, 0, 0, 0,\n",
       "       1, 1, 0, 0, 1, 0, 1, 0, 0, 1, 0, 1, 1, 1, 1, 1, 0, 1, 1, 0, 1, 1,\n",
       "       1, 1, 0, 0, 0, 0, 0, 0, 0, 1, 0, 0, 0, 0, 0, 1, 1, 1, 0, 0, 0, 0,\n",
       "       0, 1, 1, 1, 1, 1, 1, 1, 1, 1, 1, 1, 0, 1, 0, 0, 0, 0, 1, 0, 1, 1,\n",
       "       0, 1, 0, 0, 0, 1, 0, 1, 1, 1, 1])"
      ]
     },
     "execution_count": 306,
     "metadata": {},
     "output_type": "execute_result"
    }
   ],
   "source": [
    "y"
   ]
  },
  {
   "cell_type": "code",
   "execution_count": 307,
   "metadata": {},
   "outputs": [
    {
     "data": {
      "text/html": [
       "<div>\n",
       "<style scoped>\n",
       "    .dataframe tbody tr th:only-of-type {\n",
       "        vertical-align: middle;\n",
       "    }\n",
       "\n",
       "    .dataframe tbody tr th {\n",
       "        vertical-align: top;\n",
       "    }\n",
       "\n",
       "    .dataframe thead th {\n",
       "        text-align: right;\n",
       "    }\n",
       "</style>\n",
       "<table border=\"1\" class=\"dataframe\">\n",
       "  <thead>\n",
       "    <tr style=\"text-align: right;\">\n",
       "      <th></th>\n",
       "      <th>risk_score</th>\n",
       "      <th>risk_group</th>\n",
       "    </tr>\n",
       "    <tr>\n",
       "      <th>class_label</th>\n",
       "      <th></th>\n",
       "      <th></th>\n",
       "    </tr>\n",
       "  </thead>\n",
       "  <tbody>\n",
       "    <tr>\n",
       "      <th>1</th>\n",
       "      <td>1.750</td>\n",
       "      <td>1</td>\n",
       "    </tr>\n",
       "    <tr>\n",
       "      <th>0</th>\n",
       "      <td>0.018</td>\n",
       "      <td>0</td>\n",
       "    </tr>\n",
       "  </tbody>\n",
       "</table>\n",
       "</div>"
      ],
      "text/plain": [
       "             risk_score  risk_group\n",
       "class_label                        \n",
       "1                 1.750           1\n",
       "0                 0.018           0"
      ]
     },
     "execution_count": 307,
     "metadata": {},
     "output_type": "execute_result"
    }
   ],
   "source": [
    "def make_risk_score_for_groups(y: np.ndarray,\n",
    "                               n_groups: int = 2,\n",
    "                               seed: int = 89) -> Tuple[pd.DataFrame, np.ndarray]:\n",
    "    rnd = np.random.RandomState(seed)\n",
    "\n",
    "    # assign class labels `y` to one of `n_groups` risk groups\n",
    "    classes = np.unique(y)\n",
    "    #print(classes)\n",
    "    classes = classes[::-1]\n",
    "    group_assignment = {}\n",
    "    group_members = {}\n",
    "    groups = rnd.randint(n_groups, size=classes.shape)\n",
    "    for label, group in zip(classes, groups):\n",
    "        group_assignment[label] = group\n",
    "        group_members.setdefault(group, []).append(label)\n",
    "\n",
    "    # assign risk score to each class label in `y`\n",
    "    risk_per_class = {}\n",
    "    for label in classes:\n",
    "        group_idx = group_assignment[label]\n",
    "        group = group_members[group_idx]\n",
    "        label_idx = group.index(label)\n",
    "        group_size = len(group)\n",
    "\n",
    "        # allow risk scores in each group to vary slightly\n",
    "        risk_score = np.sqrt(group_idx + 1e-4) * 1.75\n",
    "        risk_score -= (label_idx - (group_size // 2)) / 25.\n",
    "        risk_per_class[label] = risk_score\n",
    "\n",
    "    assignment = pd.concat((\n",
    "        pd.Series(risk_per_class, name=\"risk_score\"),\n",
    "        pd.Series(group_assignment, name=\"risk_group\")\n",
    "    ), axis=1).rename_axis(\"class_label\")\n",
    "        \n",
    "    risk_scores = np.array([risk_per_class[yy] for yy in y])\n",
    "    return assignment, risk_scores\n",
    "\n",
    "\n",
    "risk_score_assignment, risk_scores = make_risk_score_for_groups(y)\n",
    "\n",
    "risk_score_assignment.round(3)"
   ]
  },
  {
   "cell_type": "code",
   "execution_count": 308,
   "metadata": {},
   "outputs": [
    {
     "name": "stdout",
     "output_type": "stream",
     "text": [
      "44.13% samples are right censored in training data.\n",
      "42.98% samples are right censored in test data.\n"
     ]
    }
   ],
   "source": [
    "class SurvivalTimeGenerator:\n",
    "\n",
    "    def __init__(self,\n",
    "                 num_samples: int,\n",
    "                 mean_survival_time: float,\n",
    "                 prob_censored: float) -> None:\n",
    "        self.num_samples = num_samples\n",
    "        self.mean_survival_time = mean_survival_time\n",
    "        self.prob_censored = prob_censored\n",
    "\n",
    "    def gen_censored_time(self,\n",
    "                          risk_score: np.ndarray,\n",
    "                          seed: int = 92) -> Tuple[np.ndarray,np.ndarray]:\n",
    "        rnd = np.random.RandomState(seed)\n",
    "        # generate survival time\n",
    "        baseline_hazard = 1. / self.mean_survival_time\n",
    "        scale = baseline_hazard * np.exp(risk_score)\n",
    "        u = rnd.uniform(low=0, high=1, size=risk_score.shape[0])\n",
    "        t = -np.log(u) / scale\n",
    "\n",
    "        # generate time of censoring\n",
    "        qt = np.quantile(t, 1.0 - self.prob_censored)\n",
    "        c = rnd.uniform(low=t.min(), high=qt)\n",
    "\n",
    "        # apply censoring\n",
    "        observed_event = t <= c\n",
    "        observed_time = np.where(observed_event, t, c)\n",
    "        return observed_time, observed_event\n",
    "\n",
    "\n",
    "surv_gen = SurvivalTimeGenerator(\n",
    "    num_samples=y.shape[0],\n",
    "    mean_survival_time=365.,\n",
    "    prob_censored=.40\n",
    ")\n",
    "time, event = surv_gen.gen_censored_time(risk_scores)\n",
    "time_train = time[:y_train.shape[0]]\n",
    "event_train = event[:y_train.shape[0]]\n",
    "time_test = time[y_train.shape[0]:]\n",
    "event_test = event[y_train.shape[0]:]\n",
    "\n",
    "print(\"%.2f%% samples are right censored in training data.\" % (np.sum(~event_train) * 100. / len(event_train)))\n",
    "print(\"%.2f%% samples are right censored in test data.\" % (np.sum(~event_test) * 100. / len(event_test)))"
   ]
  },
  {
   "cell_type": "code",
   "execution_count": 309,
   "metadata": {},
   "outputs": [],
   "source": [
    "y_train = y_train.reshape(1,-1).astype(int)\n",
    "y_test = y_test.reshape(1,-1).astype(int)"
   ]
  },
  {
   "cell_type": "code",
   "execution_count": 310,
   "metadata": {},
   "outputs": [
    {
     "data": {
      "text/plain": [
       "<matplotlib.legend.Legend at 0x2328c19b048>"
      ]
     },
     "execution_count": 310,
     "metadata": {},
     "output_type": "execute_result"
    },
    {
     "data": {
      "image/png": "[encoded data removed]",
      "text/plain": [
       "<Figure size 432x324 with 1 Axes>"
      ]
     },
     "metadata": {
      "needs_background": "light"
     },
     "output_type": "display_data"
    }
   ],
   "source": [
    "styles = ('-', '--')\n",
    "\n",
    "plt.figure(figsize=(6, 4.5))\n",
    "for row in risk_score_assignment.itertuples():\n",
    "    mask = y_train.reshape(1,-1).astype(int) == row.Index\n",
    "    #print(mask[0]) # εδω εβαλα mask[0]\n",
    "    coord_x, coord_y = kaplan_meier_estimator(event_train[mask[0]], time_train[mask[0]])\n",
    "    ls = styles[row.risk_group]\n",
    "    plt.step(coord_x, coord_y, where=\"post\", label=f\"Class {row.Index}\", linestyle=ls)\n",
    "plt.ylim(0, 1)\n",
    "plt.ylabel(\"Probability of survival $P(T > t)$\")\n",
    "plt.xlabel(\"Time $t$\")\n",
    "plt.grid()\n",
    "plt.legend()"
   ]
  },
  {
   "cell_type": "code",
   "execution_count": 311,
   "metadata": {},
   "outputs": [
    {
     "data": {
      "text/plain": [
       "((891,),\n",
       " (891,),\n",
       " (179,),\n",
       " (712,),\n",
       " (179,),\n",
       " (712,),\n",
       " (179, 256, 256, 1),\n",
       " (712, 256, 256, 1),\n",
       " (1, 179),\n",
       " (1, 712))"
      ]
     },
     "execution_count": 311,
     "metadata": {},
     "output_type": "execute_result"
    }
   ],
   "source": [
    "x_train  = X_train\n",
    "x_test = X_test\n",
    "\n",
    "time.shape, event.shape, time_train.shape, time_test.shape, event_train.shape, event_test.shape, x_train.shape, x_test.shape, y_train.shape, y_test.shape"
   ]
  },
  {
   "cell_type": "code",
   "execution_count": null,
   "metadata": {},
   "outputs": [],
   "source": []
  },
  {
   "cell_type": "code",
   "execution_count": 312,
   "metadata": {},
   "outputs": [
    {
     "name": "stdout",
     "output_type": "stream",
     "text": [
      "Concordance index on test data with actual risk scores: 0.690\n"
     ]
    }
   ],
   "source": [
    "cindex = concordance_index_censored(event_test, time_test, risk_scores[y_train.reshape(-1,1).shape[0]:])\n",
    "\n",
    "print(f\"Concordance index on test data with actual risk scores: {cindex[0]:.3f}\")"
   ]
  },
  {
   "cell_type": "code",
   "execution_count": 313,
   "metadata": {},
   "outputs": [],
   "source": [
    "def _make_riskset(time: np.ndarray) -> np.ndarray:\n",
    "    \"\"\"Compute mask that represents each sample's risk set.\n",
    "\n",
    "    Parameters\n",
    "    ----------\n",
    "    time : np.ndarray, shape=(n_samples,)\n",
    "        Observed event time sorted in descending order.\n",
    "\n",
    "    Returns\n",
    "    -------\n",
    "    risk_set : np.ndarray, shape=(n_samples, n_samples)\n",
    "        Boolean matrix where the `i`-th row denotes the\n",
    "        risk set of the `i`-th instance, i.e. the indices `j`\n",
    "        for which the observer time `y_j >= y_i`.\n",
    "    \"\"\"\n",
    "    assert time.ndim == 1, \"expected 1D array\"\n",
    "\n",
    "    # sort in descending order\n",
    "    o = np.argsort(-time, kind=\"mergesort\")\n",
    "    n_samples = len(time)\n",
    "    risk_set = np.zeros((n_samples, n_samples), dtype=np.bool_)\n",
    "    for i_org, i_sort in enumerate(o):\n",
    "        ti = time[i_sort]\n",
    "        k = i_org\n",
    "        while k < n_samples and ti == time[o[k]]:\n",
    "            k += 1\n",
    "        risk_set[i_sort, o[:k]] = True\n",
    "    return risk_set\n",
    "\n",
    "\n",
    "class InputFunction:\n",
    "    \"\"\"Callable input function that computes the risk set for each batch.\n",
    "    \n",
    "    Parameters\n",
    "    ----------\n",
    "    images : np.ndarray, shape=(n_samples, height, width)\n",
    "        Image data.\n",
    "    time : np.ndarray, shape=(n_samples,)\n",
    "        Observed time.\n",
    "    event : np.ndarray, shape=(n_samples,)\n",
    "        Event indicator.\n",
    "    batch_size : int, optional, default=64\n",
    "        Number of samples per batch.\n",
    "    drop_last : int, optional, default=False\n",
    "        Whether to drop the last incomplete batch.\n",
    "    shuffle : bool, optional, default=False\n",
    "        Whether to shuffle data.\n",
    "    seed : int, optional, default=89\n",
    "        Random number seed.\n",
    "    \"\"\"\n",
    "\n",
    "    def __init__(self,\n",
    "                 images: np.ndarray,\n",
    "                 time: np.ndarray,\n",
    "                 event: np.ndarray,\n",
    "                 batch_size: int = 64,\n",
    "                 drop_last: bool = False,\n",
    "                 shuffle: bool = False,\n",
    "                 seed: int = 89) -> None:\n",
    "        if images.ndim == 3:\n",
    "            images = images[..., np.newaxis]\n",
    "        self.images = images\n",
    "        self.time = time\n",
    "        self.event = event\n",
    "        self.batch_size = batch_size\n",
    "        self.drop_last = drop_last\n",
    "        self.shuffle = shuffle\n",
    "        self.seed = seed\n",
    "\n",
    "    def size(self) -> int:\n",
    "        \"\"\"Total number of samples.\"\"\"\n",
    "        return self.images.shape[0]\n",
    "\n",
    "    def steps_per_epoch(self) -> int:\n",
    "        \"\"\"Number of batches for one epoch.\"\"\"\n",
    "        return int(np.floor(self.size() / self.batch_size))\n",
    "\n",
    "    def _get_data_batch(self, index: np.ndarray) -> Tuple[np.ndarray, Dict[str, np.ndarray]]:\n",
    "        \"\"\"Compute risk set for samples in batch.\"\"\"\n",
    "        time = self.time[index]\n",
    "        event = self.event[index]\n",
    "        images = self.images[index]\n",
    "\n",
    "        labels = {\n",
    "            \"label_event\": event.astype(np.int32),\n",
    "            \"label_time\": time.astype(np.float32),\n",
    "            \"label_riskset\": _make_riskset(time)\n",
    "        }\n",
    "        return images, labels\n",
    "\n",
    "    def _iter_data(self) -> Iterable[Tuple[np.ndarray, Dict[str, np.ndarray]]]:\n",
    "        \"\"\"Generator that yields one batch at a time.\"\"\"\n",
    "        index = np.arange(self.size())\n",
    "        rnd = np.random.RandomState(self.seed)\n",
    "\n",
    "        if self.shuffle:\n",
    "            rnd.shuffle(index)\n",
    "        for b in range(self.steps_per_epoch()):\n",
    "            start = b * self.batch_size\n",
    "            idx = index[start:(start + self.batch_size)]\n",
    "            yield self._get_data_batch(idx)\n",
    "\n",
    "        if not self.drop_last:\n",
    "            start = self.steps_per_epoch() * self.batch_size\n",
    "            idx = index[start:]\n",
    "            yield self._get_data_batch(idx)\n",
    "\n",
    "    def _get_shapes(self) -> Tuple[tf.TensorShape, Dict[str, tf.TensorShape]]:\n",
    "        \"\"\"Return shapes of data returned by `self._iter_data`.\"\"\"\n",
    "        batch_size = self.batch_size if self.drop_last else None\n",
    "        h, w, c = self.images.shape[1:]\n",
    "        images = tf.TensorShape([batch_size, h, w, c])\n",
    "\n",
    "        labels = {k: tf.TensorShape((batch_size,))\n",
    "                  for k in (\"label_event\", \"label_time\")}\n",
    "        labels[\"label_riskset\"] = tf.TensorShape((batch_size, batch_size))\n",
    "        return images, labels\n",
    "\n",
    "    def _get_dtypes(self) -> Tuple[tf.DType, Dict[str, tf.DType]]:\n",
    "        \"\"\"Return dtypes of data returned by `self._iter_data`.\"\"\"\n",
    "        labels = {\"label_event\": tf.int32,\n",
    "                  \"label_time\": tf.float32,\n",
    "                  \"label_riskset\": tf.bool}\n",
    "        return tf.float32, labels\n",
    "\n",
    "    def _make_dataset(self) -> tf.data.Dataset:\n",
    "        \"\"\"Create dataset from generator.\"\"\"\n",
    "        ds = tf.data.Dataset.from_generator(\n",
    "            self._iter_data,\n",
    "            self._get_dtypes(),\n",
    "            self._get_shapes()\n",
    "        )\n",
    "        return ds\n",
    "\n",
    "    def __call__(self) -> tf.data.Dataset:\n",
    "        return self._make_dataset()\n",
    "\n",
    "\n",
    "def safe_normalize(x: tf.Tensor) -> tf.Tensor:\n",
    "    \"\"\"Normalize risk scores to avoid exp underflowing.\n",
    "\n",
    "    Note that only risk scores relative to each other matter.\n",
    "    If minimum risk score is negative, we shift scores so minimum\n",
    "    is at zero.\n",
    "    \"\"\"\n",
    "    x_min = tf.reduce_min(x, axis=0)\n",
    "    c = tf.zeros_like(x_min)\n",
    "    norm = tf.where(x_min < 0, -x_min, c)\n",
    "    return x + norm\n",
    "\n",
    "\n",
    "def logsumexp_masked(risk_scores: tf.Tensor,\n",
    "                     mask: tf.Tensor,\n",
    "                     axis: int = 0,\n",
    "                     keepdims: Optional[bool] = None) -> tf.Tensor:\n",
    "    \"\"\"Compute logsumexp across `axis` for entries where `mask` is true.\"\"\"\n",
    "    risk_scores.shape.assert_same_rank(mask.shape)\n",
    "\n",
    "    with tf.name_scope(\"logsumexp_masked\"):\n",
    "        mask_f = tf.cast(mask, risk_scores.dtype)\n",
    "        risk_scores_masked = tf.math.multiply(risk_scores, mask_f)\n",
    "        # for numerical stability, substract the maximum value\n",
    "        # before taking the exponential\n",
    "        amax = tf.reduce_max(risk_scores_masked, axis=axis, keepdims=True)\n",
    "        risk_scores_shift = risk_scores_masked - amax\n",
    "\n",
    "        exp_masked = tf.math.multiply(tf.exp(risk_scores_shift), mask_f)\n",
    "        exp_sum = tf.reduce_sum(exp_masked, axis=axis, keepdims=True)\n",
    "        output = amax + tf.math.log(exp_sum)\n",
    "        if not keepdims:\n",
    "            output = tf.squeeze(output, axis=axis)\n",
    "    return output\n",
    "\n",
    "\n",
    "class CoxPHLoss(tf.keras.losses.Loss):\n",
    "    \"\"\"Negative partial log-likelihood of Cox's proportional hazards model.\"\"\"\n",
    "\n",
    "    def __init__(self, **kwargs):\n",
    "        super().__init__(**kwargs)            \n",
    "\n",
    "    def call(self,\n",
    "             y_true: Sequence[tf.Tensor],\n",
    "             y_pred: tf.Tensor) -> tf.Tensor:\n",
    "        \"\"\"Compute loss.\n",
    "\n",
    "        Parameters\n",
    "        ----------\n",
    "        y_true : list|tuple of tf.Tensor\n",
    "            The first element holds a binary vector where 1\n",
    "            indicates an event 0 censoring.\n",
    "            The second element holds the riskset, a\n",
    "            boolean matrix where the `i`-th row denotes the\n",
    "            risk set of the `i`-th instance, i.e. the indices `j`\n",
    "            for which the observer time `y_j >= y_i`.\n",
    "            Both must be rank 2 tensors.\n",
    "        y_pred : tf.Tensor\n",
    "            The predicted outputs. Must be a rank 2 tensor.\n",
    "\n",
    "        Returns\n",
    "        -------\n",
    "        loss : tf.Tensor\n",
    "            Loss for each instance in the batch.\n",
    "        \"\"\"\n",
    "        event, riskset = y_true\n",
    "        predictions = y_pred\n",
    "\n",
    "        pred_shape = predictions.shape\n",
    "        if pred_shape.ndims != 2:\n",
    "            raise ValueError(\"Rank mismatch: Rank of predictions (received %s) should \"\n",
    "                             \"be 2.\" % pred_shape.ndims)\n",
    "\n",
    "        if pred_shape[1] is None:\n",
    "            raise ValueError(\"Last dimension of predictions must be known.\")\n",
    "\n",
    "        if pred_shape[1] != 1:\n",
    "            raise ValueError(\"Dimension mismatch: Last dimension of predictions \"\n",
    "                             \"(received %s) must be 1.\" % pred_shape[1])\n",
    "\n",
    "        if event.shape.ndims != pred_shape.ndims:\n",
    "            raise ValueError(\"Rank mismatch: Rank of predictions (received %s) should \"\n",
    "                             \"equal rank of event (received %s)\" % (\n",
    "                pred_shape.ndims, event.shape.ndims))\n",
    "\n",
    "        if riskset.shape.ndims != 2:\n",
    "            raise ValueError(\"Rank mismatch: Rank of riskset (received %s) should \"\n",
    "                             \"be 2.\" % riskset.shape.ndims)\n",
    "\n",
    "        event = tf.cast(event, predictions.dtype)\n",
    "        predictions = safe_normalize(predictions)\n",
    "\n",
    "        with tf.name_scope(\"assertions\"):\n",
    "            assertions = (\n",
    "                tf.debugging.assert_less_equal(event, 1.),\n",
    "                tf.debugging.assert_greater_equal(event, 0.),\n",
    "                tf.debugging.assert_type(riskset, tf.bool)\n",
    "            )\n",
    "\n",
    "        # move batch dimension to the end so predictions get broadcast\n",
    "        # row-wise when multiplying by riskset\n",
    "        pred_t = tf.transpose(predictions)\n",
    "        # compute log of sum over risk set for each row\n",
    "        rr = logsumexp_masked(pred_t, riskset, axis=1, keepdims=True)\n",
    "        assert rr.shape.as_list() == predictions.shape.as_list()\n",
    "\n",
    "        losses = tf.math.multiply(event, rr - predictions)\n",
    "\n",
    "        return losses"
   ]
  },
  {
   "cell_type": "code",
   "execution_count": 314,
   "metadata": {},
   "outputs": [],
   "source": [
    "class CindexMetric:\n",
    "    \"\"\"Computes concordance index across one epoch.\"\"\"\n",
    "\n",
    "    def reset_states(self) -> None:\n",
    "        \"\"\"Clear the buffer of collected values.\"\"\"\n",
    "        self._data = {\n",
    "            \"label_time\": [],\n",
    "            \"label_event\": [],\n",
    "            \"prediction\": []\n",
    "        }\n",
    "\n",
    "    def update_state(self, y_true: Dict[str, tf.Tensor], y_pred: tf.Tensor) -> None:\n",
    "        \"\"\"Collect observed time, event indicator and predictions for a batch.\n",
    "\n",
    "        Parameters\n",
    "        ----------\n",
    "        y_true : dict\n",
    "            Must have two items:\n",
    "            `label_time`, a tensor containing observed time for one batch,\n",
    "            and `label_event`, a tensor containing event indicator for one batch.\n",
    "        y_pred : tf.Tensor\n",
    "            Tensor containing predicted risk score for one batch.\n",
    "        \"\"\"\n",
    "        self._data[\"label_time\"].append(y_true[\"label_time\"].numpy())\n",
    "        self._data[\"label_event\"].append(y_true[\"label_event\"].numpy())\n",
    "        self._data[\"prediction\"].append(tf.squeeze(y_pred).numpy())\n",
    "\n",
    "    def result(self) -> Dict[str, float]:\n",
    "        \"\"\"Computes the concordance index across collected values.\n",
    "\n",
    "        Returns\n",
    "        ----------\n",
    "        metrics : dict\n",
    "            Computed metrics.\n",
    "        \"\"\"\n",
    "        data = {}\n",
    "        for k, v in self._data.items():\n",
    "            data[k] = np.concatenate(v)\n",
    "\n",
    "        results = concordance_index_censored(\n",
    "            data[\"label_event\"] == 1,\n",
    "            data[\"label_time\"],\n",
    "            data[\"prediction\"])\n",
    "\n",
    "        result_data = {}\n",
    "        names = (\"cindex\", \"concordant\", \"discordant\", \"tied_risk\")\n",
    "        for k, v in zip(names, results):\n",
    "            result_data[k] = v\n",
    "\n",
    "        return result_data"
   ]
  },
  {
   "cell_type": "code",
   "execution_count": 315,
   "metadata": {},
   "outputs": [],
   "source": [
    "import tensorflow.compat.v2.summary as summary\n",
    "from tensorflow.python.ops import summary_ops_v2\n",
    "\n",
    "\n",
    "class TrainAndEvaluateModel:\n",
    "\n",
    "    def __init__(self, model, model_dir, train_dataset, eval_dataset,\n",
    "                 learning_rate, num_epochs):\n",
    "        self.num_epochs = num_epochs\n",
    "        self.model_dir = model_dir\n",
    "\n",
    "        self.model = model\n",
    "\n",
    "        self.train_ds = train_dataset\n",
    "        self.val_ds = eval_dataset\n",
    "\n",
    "        self.optimizer = tf.keras.optimizers.Adam(learning_rate=learning_rate)\n",
    "        self.loss_fn = CoxPHLoss()\n",
    "\n",
    "        self.train_loss_metric = tf.keras.metrics.Mean(name=\"train_loss\")\n",
    "        self.val_loss_metric = tf.keras.metrics.Mean(name=\"val_loss\")\n",
    "        self.val_cindex_metric = CindexMetric()\n",
    "\n",
    "    @tf.function\n",
    "    def train_one_step(self, x, y_event, y_riskset):\n",
    "        y_event = tf.expand_dims(y_event, axis=1)\n",
    "        with tf.GradientTape() as tape:\n",
    "            logits = self.model(x, training=True)\n",
    "\n",
    "            train_loss = self.loss_fn(y_true=[y_event, y_riskset], y_pred=logits)\n",
    "\n",
    "        with tf.name_scope(\"gradients\"):\n",
    "            grads = tape.gradient(train_loss, self.model.trainable_weights)\n",
    "            self.optimizer.apply_gradients(zip(grads, self.model.trainable_weights))\n",
    "        return train_loss, logits\n",
    "\n",
    "    def train_and_evaluate(self):\n",
    "        ckpt = tf.train.Checkpoint(\n",
    "            step=tf.Variable(0, dtype=tf.int64),\n",
    "            optimizer=self.optimizer,\n",
    "            model=self.model)\n",
    "        ckpt_manager = tf.train.CheckpointManager(\n",
    "            ckpt, str(self.model_dir), max_to_keep=2)\n",
    "\n",
    "        if ckpt_manager.latest_checkpoint:\n",
    "            ckpt.restore(ckpt_manager.latest_checkpoint)\n",
    "            print(f\"Latest checkpoint restored from {ckpt_manager.latest_checkpoint}.\")\n",
    "\n",
    "        train_summary_writer = summary.create_file_writer(\n",
    "            str(self.model_dir / \"train\"))\n",
    "        val_summary_writer = summary.create_file_writer(\n",
    "            str(self.model_dir / \"valid\"))\n",
    "\n",
    "        for epoch in range(self.num_epochs):\n",
    "            with train_summary_writer.as_default():\n",
    "                self.train_one_epoch(ckpt.step)\n",
    "\n",
    "            # Run a validation loop at the end of each epoch.\n",
    "            with val_summary_writer.as_default():\n",
    "                self.evaluate(ckpt.step)\n",
    "\n",
    "        save_path = ckpt_manager.save()\n",
    "        print(f\"Saved checkpoint for step {ckpt.step.numpy()}: {save_path}\")\n",
    "\n",
    "    def train_one_epoch(self, step_counter):\n",
    "        for x, y in self.train_ds:\n",
    "            train_loss, logits = self.train_one_step(\n",
    "                x, y[\"label_event\"], y[\"label_riskset\"])\n",
    "\n",
    "            step = int(step_counter)\n",
    "            if step == 0:\n",
    "                # see https://stackoverflow.com/questions/58843269/display-graph-using-tensorflow-v2-0-in-tensorboard\n",
    "                func = self.train_one_step.get_concrete_function(\n",
    "                    x, y[\"label_event\"], y[\"label_riskset\"])\n",
    "                summary_ops_v2.graph(func.graph) #, step=0)\n",
    "\n",
    "            # Update training metric.\n",
    "            self.train_loss_metric.update_state(train_loss)\n",
    "\n",
    "            # Log every 200 batches.\n",
    "            if step % 200 == 0:\n",
    "                # Display metrics\n",
    "                mean_loss = self.train_loss_metric.result()\n",
    "                print(f\"step {step}: mean loss = {mean_loss:.4f}\")\n",
    "                # save summaries\n",
    "                summary.scalar(\"loss\", mean_loss, step=step_counter)\n",
    "                # Reset training metrics\n",
    "                self.train_loss_metric.reset_states()\n",
    "\n",
    "            step_counter.assign_add(1)\n",
    "\n",
    "    @tf.function\n",
    "    def evaluate_one_step(self, x, y_event, y_riskset):\n",
    "        y_event = tf.expand_dims(y_event, axis=1)\n",
    "        val_logits = self.model(x, training=False)\n",
    "        val_loss = self.loss_fn(y_true=[y_event, y_riskset], y_pred=val_logits)\n",
    "        return val_loss, val_logits\n",
    "\n",
    "    def evaluate(self, step_counter):\n",
    "        self.val_cindex_metric.reset_states()\n",
    "        \n",
    "        for x_val, y_val in self.val_ds:\n",
    "            val_loss, val_logits = self.evaluate_one_step(\n",
    "                x_val, y_val[\"label_event\"], y_val[\"label_riskset\"])\n",
    "\n",
    "            # Update val metrics\n",
    "            self.val_loss_metric.update_state(val_loss)\n",
    "            self.val_cindex_metric.update_state(y_val, val_logits)\n",
    "\n",
    "        val_loss = self.val_loss_metric.result()\n",
    "        summary.scalar(\"loss\",\n",
    "                       val_loss,\n",
    "                       step=step_counter)\n",
    "        self.val_loss_metric.reset_states()\n",
    "        \n",
    "        val_cindex = self.val_cindex_metric.result()\n",
    "        for key, value in val_cindex.items():\n",
    "            summary.scalar(key, value, step=step_counter)\n",
    "\n",
    "        print(f\"Validation: loss = {val_loss:.4f}, cindex = {val_cindex['cindex']:.4f}\")"
   ]
  },
  {
   "cell_type": "code",
   "execution_count": null,
   "metadata": {},
   "outputs": [],
   "source": [
    "\n"
   ]
  },
  {
   "cell_type": "markdown",
   "metadata": {},
   "source": [
    "DeepCNNSurv - Model"
   ]
  },
  {
   "cell_type": "code",
   "execution_count": 316,
   "metadata": {},
   "outputs": [
    {
     "data": {
      "text/plain": [
       "((179, 256, 256, 1), (712, 256, 256, 1), (1, 179), (1, 712))"
      ]
     },
     "execution_count": 316,
     "metadata": {},
     "output_type": "execute_result"
    }
   ],
   "source": [
    "X_train.shape, X_test.shape, y_train.shape, y_test.shape"
   ]
  },
  {
   "cell_type": "code",
   "execution_count": null,
   "metadata": {},
   "outputs": [],
   "source": []
  },
  {
   "cell_type": "code",
   "execution_count": 317,
   "metadata": {},
   "outputs": [],
   "source": [
    "model = tf.keras.Sequential([\n",
    "    tf.keras.layers.Conv2D(6, kernel_size=(5, 5), activation='relu', name='conv_1'),\n",
    "    tf.keras.layers.MaxPooling2D(pool_size=(2, 2)),\n",
    "    tf.keras.layers.Conv2D(16, (5, 5), activation='relu', name='conv_2'),\n",
    "    tf.keras.layers.MaxPooling2D(pool_size=(2, 2)),\n",
    "    tf.keras.layers.Flatten(),\n",
    "    tf.keras.layers.Dense(120, activation='relu', name='dense_1'),\n",
    "    tf.keras.layers.Dense(84, activation='relu', name='dense_2'),\n",
    "    tf.keras.layers.Dense(1, activation='linear', name='dense_3')\n",
    "])"
   ]
  },
  {
   "cell_type": "code",
   "execution_count": 318,
   "metadata": {},
   "outputs": [],
   "source": [
    "train_fn = InputFunction(x_train, time_train, event_train,\n",
    "                  drop_last=True,\n",
    "                  shuffle=True)\n",
    "\n",
    "eval_fn = InputFunction(x_test, time_test, event_test)\n",
    "\n",
    "trainer = TrainAndEvaluateModel(\n",
    "    model=model,\n",
    "    model_dir=Path(\"ckpts-mnist-c\"),\n",
    "    train_dataset=train_fn(),\n",
    "    eval_dataset=eval_fn(),\n",
    "    learning_rate=0.0001,\n",
    "    num_epochs=30,\n",
    ")"
   ]
  },
  {
   "cell_type": "markdown",
   "metadata": {},
   "source": []
  },
  {
   "cell_type": "code",
   "execution_count": 386,
   "metadata": {},
   "outputs": [
    {
     "name": "stdout",
     "output_type": "stream",
     "text": [
      "Latest checkpoint restored from ckpts-mnist-c\\ckpt-5.\n",
      "Validation: loss = 9.6895, cindex = 0.5868\n",
      "Validation: loss = 9.7311, cindex = 0.5869\n",
      "Validation: loss = 9.7733, cindex = 0.5871\n",
      "Validation: loss = 9.8155, cindex = 0.5873\n",
      "Validation: loss = 9.8571, cindex = 0.5873\n",
      "Validation: loss = 9.8987, cindex = 0.5874\n",
      "Validation: loss = 9.9400, cindex = 0.5874\n",
      "Validation: loss = 9.9808, cindex = 0.5875\n",
      "Validation: loss = 10.0215, cindex = 0.5874\n",
      "Validation: loss = 10.0623, cindex = 0.5874\n",
      "Validation: loss = 10.1028, cindex = 0.5875\n",
      "Validation: loss = 10.1430, cindex = 0.5876\n",
      "Validation: loss = 10.1833, cindex = 0.5877\n",
      "Validation: loss = 10.2237, cindex = 0.5878\n",
      "Validation: loss = 10.2638, cindex = 0.5878\n",
      "Validation: loss = 10.3037, cindex = 0.5879\n",
      "Validation: loss = 10.3434, cindex = 0.5879\n",
      "Validation: loss = 10.3827, cindex = 0.5880\n",
      "Validation: loss = 10.4219, cindex = 0.5880\n",
      "Validation: loss = 10.4611, cindex = 0.5880\n",
      "Validation: loss = 10.5004, cindex = 0.5880\n",
      "Validation: loss = 10.5396, cindex = 0.5880\n",
      "Validation: loss = 10.5787, cindex = 0.5882\n",
      "Validation: loss = 10.6175, cindex = 0.5883\n",
      "Validation: loss = 10.6562, cindex = 0.5883\n",
      "Validation: loss = 10.6948, cindex = 0.5884\n",
      "Validation: loss = 10.7333, cindex = 0.5884\n",
      "Validation: loss = 10.7717, cindex = 0.5884\n",
      "Validation: loss = 10.8099, cindex = 0.5884\n",
      "Validation: loss = 10.8478, cindex = 0.5884\n",
      "Saved checkpoint for step 600: ckpts-mnist-c\\ckpt-6\n"
     ]
    }
   ],
   "source": [
    "trainer.train_and_evaluate()"
   ]
  },
  {
   "cell_type": "code",
   "execution_count": 320,
   "metadata": {},
   "outputs": [
    {
     "name": "stdout",
     "output_type": "stream",
     "text": [
      "Model: \"sequential_3\"\n",
      "_________________________________________________________________\n",
      " Layer (type)                Output Shape              Param #   \n",
      "=================================================================\n",
      " conv_1 (Conv2D)             (None, 252, 252, 6)       156       \n",
      "                                                                 \n",
      " max_pooling2d_6 (MaxPooling  (None, 126, 126, 6)      0         \n",
      " 2D)                                                             \n",
      "                                                                 \n",
      " conv_2 (Conv2D)             (None, 122, 122, 16)      2416      \n",
      "                                                                 \n",
      " max_pooling2d_7 (MaxPooling  (None, 61, 61, 16)       0         \n",
      " 2D)                                                             \n",
      "                                                                 \n",
      " flatten_3 (Flatten)         (None, 59536)             0         \n",
      "                                                                 \n",
      " dense_1 (Dense)             (None, 120)               7144440   \n",
      "                                                                 \n",
      " dense_2 (Dense)             (None, 84)                10164     \n",
      "                                                                 \n",
      " dense_3 (Dense)             (None, 1)                 85        \n",
      "                                                                 \n",
      "=================================================================\n",
      "Total params: 7,157,261\n",
      "Trainable params: 7,157,261\n",
      "Non-trainable params: 0\n",
      "_________________________________________________________________\n"
     ]
    }
   ],
   "source": [
    "model.summary()"
   ]
  },
  {
   "cell_type": "markdown",
   "metadata": {},
   "source": []
  },
  {
   "cell_type": "markdown",
   "metadata": {},
   "source": [
    "Save the model "
   ]
  },
  {
   "cell_type": "code",
   "execution_count": null,
   "metadata": {},
   "outputs": [],
   "source": [
    "from keras.models import save_model\n",
    "\n",
    "# model = Your trained model. Of course you can save the model wherever you like and modify the directory accordingly\n",
    "#model.save('model.h5')"
   ]
  },
  {
   "cell_type": "markdown",
   "metadata": {},
   "source": [
    "Load the model "
   ]
  },
  {
   "cell_type": "code",
   "execution_count": null,
   "metadata": {},
   "outputs": [],
   "source": [
    "from tensorflow import keras\n",
    "model = keras.models.load_model('C:\\\\Users\\\\geo_m\\\\Downloads\\\\model.h5')\n",
    "print(model)"
   ]
  },
  {
   "cell_type": "markdown",
   "metadata": {},
   "source": [
    "FEATURE EXTRACTOR "
   ]
  },
  {
   "cell_type": "code",
   "execution_count": 29,
   "metadata": {},
   "outputs": [
    {
     "data": {
      "text/plain": [
       "[<keras.engine.input_layer.InputLayer at 0x2a14cfa06c8>,\n",
       " <keras.layers.convolutional.Conv2D at 0x2a15766df88>,\n",
       " <keras.layers.pooling.MaxPooling2D at 0x2a15768cf88>,\n",
       " <keras.layers.convolutional.Conv2D at 0x2a14bf02908>,\n",
       " <keras.layers.pooling.MaxPooling2D at 0x2a15766fcc8>,\n",
       " <keras.layers.core.flatten.Flatten at 0x2a15766f248>,\n",
       " <keras.layers.core.dense.Dense at 0x2a157671d48>,\n",
       " <keras.layers.core.dense.Dense at 0x2a157676c88>]"
      ]
     },
     "execution_count": 29,
     "metadata": {},
     "output_type": "execute_result"
    }
   ],
   "source": [
    "model.layers"
   ]
  },
  {
   "cell_type": "code",
   "execution_count": 387,
   "metadata": {},
   "outputs": [],
   "source": [
    "from keras.models import Model\n",
    "model = Model(inputs=model.inputs, outputs=model.layers[-1].output)"
   ]
  },
  {
   "cell_type": "markdown",
   "metadata": {},
   "source": [
    "VISUALIZATION "
   ]
  },
  {
   "cell_type": "code",
   "execution_count": 388,
   "metadata": {},
   "outputs": [
    {
     "data": {
      "text/plain": [
       "<matplotlib.image.AxesImage at 0x23281fa33c8>"
      ]
     },
     "execution_count": 388,
     "metadata": {},
     "output_type": "execute_result"
    },
    {
     "data": {
      "image/png": "[encoded data removed]",
      "text/plain": [
       "<Figure size 432x288 with 1 Axes>"
      ]
     },
     "metadata": {
      "needs_background": "light"
     },
     "output_type": "display_data"
    }
   ],
   "source": [
    "import matplotlib.pyplot as plt \n",
    "plt.imshow(x_test[1].reshape(x_test[0].shape[1], x_test[0].shape[1]))"
   ]
  },
  {
   "cell_type": "code",
   "execution_count": 389,
   "metadata": {},
   "outputs": [
    {
     "data": {
      "text/plain": [
       "(256, 256, 1)"
      ]
     },
     "execution_count": 389,
     "metadata": {},
     "output_type": "execute_result"
    }
   ],
   "source": [
    "x_test[1].shape"
   ]
  },
  {
   "cell_type": "markdown",
   "metadata": {},
   "source": [
    "Use FEATURE EXTRACTOR in order to pass through all the data and return vectors of (important) features extracted "
   ]
  },
  {
   "cell_type": "code",
   "execution_count": 390,
   "metadata": {},
   "outputs": [],
   "source": [
    "import numpy as np \n",
    "\n",
    "vectors_extracted = []\n",
    "for i in range(len(X_test)):\n",
    "    features = model.predict(X_test[i].reshape(1, 256, 256, 1))\n",
    "    vectors_extracted.append(features)"
   ]
  },
  {
   "cell_type": "code",
   "execution_count": 391,
   "metadata": {},
   "outputs": [
    {
     "data": {
      "text/plain": [
       "(256, 256, 1)"
      ]
     },
     "execution_count": 391,
     "metadata": {},
     "output_type": "execute_result"
    }
   ],
   "source": [
    "X_test[0].shape"
   ]
  },
  {
   "cell_type": "markdown",
   "metadata": {},
   "source": [
    "RESHAPE THE VECTORS"
   ]
  },
  {
   "cell_type": "code",
   "execution_count": 392,
   "metadata": {},
   "outputs": [
    {
     "data": {
      "text/plain": [
       "(120,)"
      ]
     },
     "execution_count": 392,
     "metadata": {},
     "output_type": "execute_result"
    }
   ],
   "source": [
    "o = vectors_extracted[0].reshape(120)\n",
    "o.shape"
   ]
  },
  {
   "cell_type": "code",
   "execution_count": 393,
   "metadata": {},
   "outputs": [
    {
     "name": "stdout",
     "output_type": "stream",
     "text": [
      "(712, 1, 120)\n"
     ]
    },
    {
     "data": {
      "text/plain": [
       "(712, 120)"
      ]
     },
     "execution_count": 393,
     "metadata": {},
     "output_type": "execute_result"
    }
   ],
   "source": [
    "print(np.asarray(vectors_extracted).shape)\n",
    "vectors_reshaped = np.asarray(vectors_extracted).reshape(np.asarray(vectors_extracted).shape[0],np.asarray(vectors_extracted).shape[2])\n",
    "vectors_reshaped.shape"
   ]
  },
  {
   "cell_type": "code",
   "execution_count": 394,
   "metadata": {},
   "outputs": [
    {
     "data": {
      "text/plain": [
       "(712, 120)"
      ]
     },
     "execution_count": 394,
     "metadata": {},
     "output_type": "execute_result"
    }
   ],
   "source": [
    "vectors_reshaped.shape"
   ]
  },
  {
   "cell_type": "code",
   "execution_count": 395,
   "metadata": {},
   "outputs": [
    {
     "data": {
      "text/html": [
       "<div>\n",
       "<style scoped>\n",
       "    .dataframe tbody tr th:only-of-type {\n",
       "        vertical-align: middle;\n",
       "    }\n",
       "\n",
       "    .dataframe tbody tr th {\n",
       "        vertical-align: top;\n",
       "    }\n",
       "\n",
       "    .dataframe thead th {\n",
       "        text-align: right;\n",
       "    }\n",
       "</style>\n",
       "<table border=\"1\" class=\"dataframe\">\n",
       "  <thead>\n",
       "    <tr style=\"text-align: right;\">\n",
       "      <th></th>\n",
       "      <th>Events</th>\n",
       "    </tr>\n",
       "  </thead>\n",
       "  <tbody>\n",
       "    <tr>\n",
       "      <th>0</th>\n",
       "      <td>True</td>\n",
       "    </tr>\n",
       "    <tr>\n",
       "      <th>1</th>\n",
       "      <td>False</td>\n",
       "    </tr>\n",
       "    <tr>\n",
       "      <th>2</th>\n",
       "      <td>True</td>\n",
       "    </tr>\n",
       "    <tr>\n",
       "      <th>3</th>\n",
       "      <td>True</td>\n",
       "    </tr>\n",
       "    <tr>\n",
       "      <th>4</th>\n",
       "      <td>True</td>\n",
       "    </tr>\n",
       "    <tr>\n",
       "      <th>...</th>\n",
       "      <td>...</td>\n",
       "    </tr>\n",
       "    <tr>\n",
       "      <th>707</th>\n",
       "      <td>False</td>\n",
       "    </tr>\n",
       "    <tr>\n",
       "      <th>708</th>\n",
       "      <td>False</td>\n",
       "    </tr>\n",
       "    <tr>\n",
       "      <th>709</th>\n",
       "      <td>True</td>\n",
       "    </tr>\n",
       "    <tr>\n",
       "      <th>710</th>\n",
       "      <td>True</td>\n",
       "    </tr>\n",
       "    <tr>\n",
       "      <th>711</th>\n",
       "      <td>True</td>\n",
       "    </tr>\n",
       "  </tbody>\n",
       "</table>\n",
       "<p>712 rows × 1 columns</p>\n",
       "</div>"
      ],
      "text/plain": [
       "     Events\n",
       "0      True\n",
       "1     False\n",
       "2      True\n",
       "3      True\n",
       "4      True\n",
       "..      ...\n",
       "707   False\n",
       "708   False\n",
       "709    True\n",
       "710    True\n",
       "711    True\n",
       "\n",
       "[712 rows x 1 columns]"
      ]
     },
     "execution_count": 395,
     "metadata": {},
     "output_type": "execute_result"
    }
   ],
   "source": [
    "holistic_table = pd.DataFrame(event_test, columns=['Events'])\n",
    "holistic_table"
   ]
  },
  {
   "cell_type": "code",
   "execution_count": 396,
   "metadata": {},
   "outputs": [
    {
     "data": {
      "text/html": [
       "<div>\n",
       "<style scoped>\n",
       "    .dataframe tbody tr th:only-of-type {\n",
       "        vertical-align: middle;\n",
       "    }\n",
       "\n",
       "    .dataframe tbody tr th {\n",
       "        vertical-align: top;\n",
       "    }\n",
       "\n",
       "    .dataframe thead th {\n",
       "        text-align: right;\n",
       "    }\n",
       "</style>\n",
       "<table border=\"1\" class=\"dataframe\">\n",
       "  <thead>\n",
       "    <tr style=\"text-align: right;\">\n",
       "      <th></th>\n",
       "      <th>Events</th>\n",
       "      <th>Time</th>\n",
       "    </tr>\n",
       "  </thead>\n",
       "  <tbody>\n",
       "    <tr>\n",
       "      <th>0</th>\n",
       "      <td>True</td>\n",
       "      <td>115.258529</td>\n",
       "    </tr>\n",
       "    <tr>\n",
       "      <th>1</th>\n",
       "      <td>False</td>\n",
       "      <td>116.575721</td>\n",
       "    </tr>\n",
       "    <tr>\n",
       "      <th>2</th>\n",
       "      <td>True</td>\n",
       "      <td>116.325425</td>\n",
       "    </tr>\n",
       "    <tr>\n",
       "      <th>3</th>\n",
       "      <td>True</td>\n",
       "      <td>69.253783</td>\n",
       "    </tr>\n",
       "    <tr>\n",
       "      <th>4</th>\n",
       "      <td>True</td>\n",
       "      <td>4.159650</td>\n",
       "    </tr>\n",
       "    <tr>\n",
       "      <th>...</th>\n",
       "      <td>...</td>\n",
       "      <td>...</td>\n",
       "    </tr>\n",
       "    <tr>\n",
       "      <th>707</th>\n",
       "      <td>False</td>\n",
       "      <td>116.575721</td>\n",
       "    </tr>\n",
       "    <tr>\n",
       "      <th>708</th>\n",
       "      <td>False</td>\n",
       "      <td>116.575721</td>\n",
       "    </tr>\n",
       "    <tr>\n",
       "      <th>709</th>\n",
       "      <td>True</td>\n",
       "      <td>37.866360</td>\n",
       "    </tr>\n",
       "    <tr>\n",
       "      <th>710</th>\n",
       "      <td>True</td>\n",
       "      <td>39.652546</td>\n",
       "    </tr>\n",
       "    <tr>\n",
       "      <th>711</th>\n",
       "      <td>True</td>\n",
       "      <td>70.169348</td>\n",
       "    </tr>\n",
       "  </tbody>\n",
       "</table>\n",
       "<p>712 rows × 2 columns</p>\n",
       "</div>"
      ],
      "text/plain": [
       "     Events        Time\n",
       "0      True  115.258529\n",
       "1     False  116.575721\n",
       "2      True  116.325425\n",
       "3      True   69.253783\n",
       "4      True    4.159650\n",
       "..      ...         ...\n",
       "707   False  116.575721\n",
       "708   False  116.575721\n",
       "709    True   37.866360\n",
       "710    True   39.652546\n",
       "711    True   70.169348\n",
       "\n",
       "[712 rows x 2 columns]"
      ]
     },
     "execution_count": 396,
     "metadata": {},
     "output_type": "execute_result"
    }
   ],
   "source": [
    "holistic_table['Time'] = pd.DataFrame(time_test)\n",
    "\n",
    "holistic_table"
   ]
  },
  {
   "cell_type": "markdown",
   "metadata": {},
   "source": [
    "TSNE"
   ]
  },
  {
   "cell_type": "code",
   "execution_count": 397,
   "metadata": {},
   "outputs": [
    {
     "data": {
      "text/plain": [
       "(712, 2)"
      ]
     },
     "execution_count": 397,
     "metadata": {},
     "output_type": "execute_result"
    }
   ],
   "source": [
    "from sklearn.manifold import TSNE\n",
    "vectors_reshaped[0]\n",
    "#X_embedded = TSNE(n_components=2).fit_transform(vectors_reshaped.reshape(vectors_reshaped.shape[1], vectors_reshaped.shape[2]))\n",
    "X_embedded = TSNE(n_components=2).fit_transform(vectors_reshaped)\n",
    "\n",
    "X_embedded.shape"
   ]
  },
  {
   "cell_type": "markdown",
   "metadata": {},
   "source": [
    "PCA"
   ]
  },
  {
   "cell_type": "code",
   "execution_count": 398,
   "metadata": {},
   "outputs": [],
   "source": [
    "from sklearn.decomposition import PCA\n",
    "\n",
    "# reduce the amount of dimensions in the feature vector\n",
    "pca = PCA(n_components=2, random_state=0)\n",
    "#pca.fit(vectors_reshaped.reshape(vectors_reshaped.shape[0], vectors_reshaped.shape[2]))\n",
    "#X_embedded_pca = pca.transform(vectors_reshaped.reshape(vectors_reshaped.shape[0], vectors_reshaped.shape[2]))\n",
    "pca.fit(vectors_reshaped)\n",
    "X_embedded_pca = pca.transform(vectors_reshaped)"
   ]
  },
  {
   "cell_type": "markdown",
   "metadata": {},
   "source": [
    "KMEANS clustering (either with or without dimensionality reduction before) "
   ]
  },
  {
   "cell_type": "code",
   "execution_count": 399,
   "metadata": {},
   "outputs": [
    {
     "name": "stderr",
     "output_type": "stream",
     "text": [
      "d:\\DSS_Visual_Analytics_XAI\\Code\\Explainability\\explainability\\lib\\site-packages\\sklearn\\cluster\\_kmeans.py:793: FutureWarning: 'n_jobs' was deprecated in version 0.23 and will be removed in 1.0 (renaming of 0.25).\n",
      "  \" removed in 1.0 (renaming of 0.25).\", FutureWarning)\n"
     ]
    },
    {
     "data": {
      "text/plain": [
       "KMeans(n_clusters=2, n_jobs=-1)"
      ]
     },
     "execution_count": 399,
     "metadata": {},
     "output_type": "execute_result"
    }
   ],
   "source": [
    "# clustering and dimension reduction\n",
    "from sklearn.cluster import KMeans\n",
    "\n",
    "\n",
    "# cluster feature vectors\n",
    "kmeans = KMeans(n_clusters=2,n_jobs=-1)\n",
    "kmeans.fit(X_embedded) # use X_embedded or X_embedded_pca here if you want to include dimensionality reduction in your process"
   ]
  },
  {
   "cell_type": "markdown",
   "metadata": {},
   "source": [
    "USE KMEANS LABELS"
   ]
  },
  {
   "cell_type": "code",
   "execution_count": 400,
   "metadata": {},
   "outputs": [
    {
     "data": {
      "text/html": [
       "<div>\n",
       "<style scoped>\n",
       "    .dataframe tbody tr th:only-of-type {\n",
       "        vertical-align: middle;\n",
       "    }\n",
       "\n",
       "    .dataframe tbody tr th {\n",
       "        vertical-align: top;\n",
       "    }\n",
       "\n",
       "    .dataframe thead th {\n",
       "        text-align: right;\n",
       "    }\n",
       "</style>\n",
       "<table border=\"1\" class=\"dataframe\">\n",
       "  <thead>\n",
       "    <tr style=\"text-align: right;\">\n",
       "      <th></th>\n",
       "      <th>Events</th>\n",
       "      <th>Time</th>\n",
       "      <th>Labels</th>\n",
       "    </tr>\n",
       "  </thead>\n",
       "  <tbody>\n",
       "    <tr>\n",
       "      <th>0</th>\n",
       "      <td>True</td>\n",
       "      <td>115.258529</td>\n",
       "      <td>0</td>\n",
       "    </tr>\n",
       "    <tr>\n",
       "      <th>1</th>\n",
       "      <td>False</td>\n",
       "      <td>116.575721</td>\n",
       "      <td>0</td>\n",
       "    </tr>\n",
       "    <tr>\n",
       "      <th>2</th>\n",
       "      <td>True</td>\n",
       "      <td>116.325425</td>\n",
       "      <td>1</td>\n",
       "    </tr>\n",
       "    <tr>\n",
       "      <th>3</th>\n",
       "      <td>True</td>\n",
       "      <td>69.253783</td>\n",
       "      <td>1</td>\n",
       "    </tr>\n",
       "    <tr>\n",
       "      <th>4</th>\n",
       "      <td>True</td>\n",
       "      <td>4.159650</td>\n",
       "      <td>1</td>\n",
       "    </tr>\n",
       "  </tbody>\n",
       "</table>\n",
       "</div>"
      ],
      "text/plain": [
       "   Events        Time  Labels\n",
       "0    True  115.258529       0\n",
       "1   False  116.575721       0\n",
       "2    True  116.325425       1\n",
       "3    True   69.253783       1\n",
       "4    True    4.159650       1"
      ]
     },
     "execution_count": 400,
     "metadata": {},
     "output_type": "execute_result"
    }
   ],
   "source": [
    "holistic_table['Labels'] = pd.DataFrame(kmeans.labels_)\n",
    "\n",
    "holistic_table.head()"
   ]
  },
  {
   "cell_type": "code",
   "execution_count": 401,
   "metadata": {},
   "outputs": [
    {
     "name": "stdout",
     "output_type": "stream",
     "text": [
      "        Labels\n",
      "0    High Risk\n",
      "1    High Risk\n",
      "2     Low Risk\n",
      "3     Low Risk\n",
      "4     Low Risk\n",
      "..         ...\n",
      "707  High Risk\n",
      "708   Low Risk\n",
      "709  High Risk\n",
      "710  High Risk\n",
      "711  High Risk\n",
      "\n",
      "[712 rows x 1 columns]\n"
     ]
    },
    {
     "name": "stderr",
     "output_type": "stream",
     "text": [
      "d:\\DSS_Visual_Analytics_XAI\\Code\\Explainability\\explainability\\lib\\site-packages\\seaborn\\_decorators.py:43: FutureWarning: Pass the following variables as keyword args: x, y. From version 0.12, the only valid positional argument will be `data`, and passing other arguments without an explicit keyword will result in an error or misinterpretation.\n",
      "  FutureWarning\n"
     ]
    },
    {
     "data": {
      "image/png": "[encoded data removed]",
      "text/plain": [
       "<Figure size 432x288 with 1 Axes>"
      ]
     },
     "metadata": {
      "needs_background": "light"
     },
     "output_type": "display_data"
    }
   ],
   "source": [
    "import seaborn as sns \n",
    "\n",
    "table_ = pd.DataFrame(holistic_table['Labels'].values, columns = ['Labels'])\n",
    "\n",
    "table_.loc[table_['Labels'] == 1, 'Labels'] = 'Low Risk'\n",
    "table_.loc[table_['Labels'] == 0, 'Labels'] = 'High Risk'\n",
    "print(table_)\n",
    "ax = sns.scatterplot(X_embedded[:,0], X_embedded[:,1], hue=table_['Labels'], legend='full')\n",
    "ax.axes.xaxis.set_visible(True)\n",
    "ax.axes.yaxis.set_visible(True)\n",
    "plt.show()"
   ]
  },
  {
   "cell_type": "code",
   "execution_count": null,
   "metadata": {},
   "outputs": [],
   "source": []
  },
  {
   "cell_type": "code",
   "execution_count": 402,
   "metadata": {},
   "outputs": [
    {
     "data": {
      "text/plain": [
       "((891,), (891,), (179,), (712,), (179,), (712,))"
      ]
     },
     "execution_count": 402,
     "metadata": {},
     "output_type": "execute_result"
    }
   ],
   "source": [
    "time.shape, event.shape, time_train.shape, time_test.shape, event_train.shape, event_test.shape"
   ]
  },
  {
   "cell_type": "code",
   "execution_count": 403,
   "metadata": {},
   "outputs": [
    {
     "name": "stdout",
     "output_type": "stream",
     "text": [
      "     Events        Time  Labels\n",
      "2      True  116.325425       1\n",
      "3      True   69.253783       1\n",
      "4      True    4.159650       1\n",
      "5      True    6.470257       1\n",
      "11     True   89.132045       1\n",
      "..      ...         ...     ...\n",
      "700   False  116.575721       1\n",
      "703    True   96.731069       1\n",
      "705   False  116.575721       1\n",
      "706    True   10.997556       1\n",
      "708   False  116.575721       1\n",
      "\n",
      "[363 rows x 3 columns]\n",
      "     Events        Time  Labels\n",
      "0      True  115.258529       0\n",
      "1     False  116.575721       0\n",
      "6     False  116.575721       0\n",
      "7      True   35.346234       0\n",
      "8      True    6.642518       0\n",
      "..      ...         ...     ...\n",
      "704   False  116.575721       0\n",
      "707   False  116.575721       0\n",
      "709    True   37.866360       0\n",
      "710    True   39.652546       0\n",
      "711    True   70.169348       0\n",
      "\n",
      "[349 rows x 3 columns]\n",
      "(363, 3)\n",
      "(349, 3)\n"
     ]
    },
    {
     "data": {
      "image/png": "[encoded data removed]",
      "text/plain": [
       "<Figure size 432x288 with 1 Axes>"
      ]
     },
     "metadata": {
      "needs_background": "light"
     },
     "output_type": "display_data"
    }
   ],
   "source": [
    "from lifelines import KaplanMeierFitter\n",
    "from lifelines.statistics import logrank_test, multivariate_logrank_test\n",
    "\n",
    "group_1 = holistic_table[holistic_table['Labels'] == 1]\n",
    "print(group_1)\n",
    "group_0 = holistic_table[holistic_table['Labels'] == 0]\n",
    "print(group_0)\n",
    "#group_2 = holistic_table[holistic_table['Labels'] == 2]\n",
    "#print(group_2)\n",
    "#group_3 = holistic_table[holistic_table['Labels'] == 3]\n",
    "#print(group_3)\n",
    "\n",
    "kmf1 = KaplanMeierFitter() \n",
    "kmf1.fit(group_1['Time'], group_1['Events'], label=\"High risk group\")\n",
    "\n",
    "kmf0 = KaplanMeierFitter() \n",
    "kmf0.fit(group_0['Time'], group_0['Events'], label=\"Low risk group\")\n",
    "\n",
    "#kmf2 = KaplanMeierFitter() \n",
    "#kmf2.fit(group_2['Time'], group_2['Events'])\n",
    "\n",
    "#kmf3 = KaplanMeierFitter() \n",
    "#kmf3.fit(group_3['Time'], group_3['Events'])\n",
    "\n",
    "ax = kmf1.plot()\n",
    "ax = kmf0.plot(ax = ax)\n",
    "#ax = kmf2.plot(ax = ax)\n",
    "#ax = kmf3.plot(ax = ax)\n",
    "\n",
    "\n",
    "print(group_1.shape)\n",
    "print(group_0.shape)\n",
    "#print(group_2.shape)\n",
    "#print(group_3.shape)\n",
    "\n",
    "#results = multivariate_logrank_test(holistic_table['Time'], holistic_table['Labels'], holistic_table['Events'])\n",
    "results = logrank_test(group_1['Time'], group_0['Time'], event_observed_A=group_1['Events'], event_observed_B=group_0['Events'])"
   ]
  },
  {
   "cell_type": "code",
   "execution_count": 404,
   "metadata": {},
   "outputs": [
    {
     "data": {
      "text/plain": [
       "0.05063047488945039"
      ]
     },
     "execution_count": 404,
     "metadata": {},
     "output_type": "execute_result"
    }
   ],
   "source": [
    "results.p_value"
   ]
  },
  {
   "cell_type": "code",
   "execution_count": null,
   "metadata": {},
   "outputs": [],
   "source": []
  },
  {
   "cell_type": "code",
   "execution_count": null,
   "metadata": {},
   "outputs": [],
   "source": []
  }
 ],
 "metadata": {
  "kernelspec": {
   "display_name": "Python 3",
   "language": "python",
   "name": "python3"
  },
  "language_info": {
   "codemirror_mode": {
    "name": "ipython",
    "version": 3
   },
   "file_extension": ".py",
   "mimetype": "text/x-python",
   "name": "python",
   "nbconvert_exporter": "python",
   "pygments_lexer": "ipython3",
   "version": "3.7.8"
  }
 },
 "nbformat": 4,
 "nbformat_minor": 4
}
